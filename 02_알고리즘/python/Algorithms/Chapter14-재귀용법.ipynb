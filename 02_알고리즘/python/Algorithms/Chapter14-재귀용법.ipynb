{
 "cells": [
  {
   "cell_type": "markdown",
   "metadata": {},
   "source": [
    "## 재귀용법(recursive call, 재귀 호출)\n",
    "\n",
    "1. 재귀 용법(recursive call, 재귀호출)\n",
    "    - 함수 안에서 동일한 함수를 호출하는 형태\n",
    "    - 여러 알고리즘 작성 시 사용되므로 익숙해져야함\n",
    "2. 재귀 용법 이해\n",
    "    - 예제를 풀어보며, 재귀용법 이해하기\n",
    "    \n",
    "### 1. 예제\n",
    "    - factorial 구하는 알고리즘 recursive call을 활용해서 알고리즘 작성하기"
   ]
  },
  {
   "cell_type": "code",
   "execution_count": 1,
   "metadata": {},
   "outputs": [],
   "source": [
    "def factorial(n):\n",
    "    if n > 1:\n",
    "        return n * factorial(n-1)\n",
    "    else:\n",
    "        return n\n",
    "    "
   ]
  },
  {
   "cell_type": "code",
   "execution_count": 4,
   "metadata": {},
   "outputs": [
    {
     "name": "stdout",
     "output_type": "stream",
     "text": [
      "0\n",
      "1\n",
      "2\n",
      "6\n",
      "24\n",
      "120\n",
      "720\n",
      "5040\n",
      "40320\n",
      "362880\n"
     ]
    }
   ],
   "source": [
    "for i in range(10):\n",
    "    print(factorial(i))"
   ]
  },
  {
   "cell_type": "markdown",
   "metadata": {},
   "source": [
    "### 2. 시간복잡도와 공간복잡도\n",
    "- factorial(n) 은 n-1 번의 factorial()함수를 호출해서, 곱셈을 함\n",
    "    - 일종의 n-1 번 반복문을 호출한 것과 동일\n",
    "    - factorial() 함수를 호출할 때마다, 지역변수 n이 생성됨\n",
    "- 시간복잡도, 공간복잡도 모두 O(n-1) 이므로 결국, 둘 다 O(n)\n"
   ]
  },
  {
   "cell_type": "markdown",
   "metadata": {},
   "source": [
    "### 3. 재귀호출의 일반적인 형태\n",
    "```python\n",
    "def function(입력):\n",
    "    if 입력> 일정값: # 입력값이 일정값 이상일 때\n",
    "        return function(입력-1) # 입력값보다 작은값\n",
    "    else:\n",
    "        return 일정값, 입력값 또는 특정값 #재귀종료\n",
    "```\n",
    "<hr>\n",
    "\n",
    "```python\n",
    "def function(입력):\n",
    "    if 입력 <= 일정값: #입력값이 일정값보다 작으면\n",
    "        return 결과값 # 재귀 종료\n",
    "    function (입력-1) #입력값보다 작은값\n",
    "    return 결과값\n",
    "```"
   ]
  },
  {
   "cell_type": "code",
   "execution_count": 7,
   "metadata": {},
   "outputs": [],
   "source": [
    "def factorial(num):\n",
    "    if num <= 1:\n",
    "        return num\n",
    "    return_value = num * factorial(num-1)\n",
    "    return return_value"
   ]
  },
  {
   "cell_type": "code",
   "execution_count": 8,
   "metadata": {},
   "outputs": [
    {
     "name": "stdout",
     "output_type": "stream",
     "text": [
      "0\n",
      "1\n",
      "2\n",
      "6\n",
      "24\n",
      "120\n",
      "720\n",
      "5040\n",
      "40320\n",
      "362880\n"
     ]
    }
   ],
   "source": [
    "for i in range(10):\n",
    "    print(factorial(i))"
   ]
  },
  {
   "cell_type": "markdown",
   "metadata": {},
   "source": [
    "### 재귀 호출은 스택의 전형적인 예\n",
    "- 함수는 내부적으로 스택처럼 관리된다.\n",
    "> 참고: 파이썬에서는 재귀 깊이가 1000 회 이하 여야한다."
   ]
  },
  {
   "cell_type": "markdown",
   "metadata": {},
   "source": [
    "### 4. 재귀 용법을 활용한 연습"
   ]
  },
  {
   "cell_type": "markdown",
   "metadata": {},
   "source": [
    "<div style=\"background: lightyellow; height:50px; display: flex; align-items: center\">\n",
    "    <h4> 예제1. 1~N까지 곱 </h4>\n",
    "</div>"
   ]
  },
  {
   "cell_type": "code",
   "execution_count": 9,
   "metadata": {},
   "outputs": [],
   "source": [
    "# 반복문\n",
    "\n",
    "def multiple(data):\n",
    "    ans = 1\n",
    "    for i in range(2,data+1):\n",
    "        #print(ans)\n",
    "        ans *= i\n",
    "    return ans"
   ]
  },
  {
   "cell_type": "code",
   "execution_count": 10,
   "metadata": {},
   "outputs": [
    {
     "name": "stdout",
     "output_type": "stream",
     "text": [
      "1\n",
      "2\n",
      "6\n",
      "24\n",
      "120\n",
      "720\n",
      "5040\n",
      "40320\n",
      "362880\n",
      "3628800\n"
     ]
    }
   ],
   "source": [
    "print(multiple(10))"
   ]
  },
  {
   "cell_type": "code",
   "execution_count": 21,
   "metadata": {},
   "outputs": [],
   "source": [
    "# 재귀용법\n",
    "def multiple(data):\n",
    "    if data <= 1:\n",
    "        return data\n",
    "    return data * multiple(data-1)"
   ]
  },
  {
   "cell_type": "code",
   "execution_count": 22,
   "metadata": {},
   "outputs": [
    {
     "name": "stdout",
     "output_type": "stream",
     "text": [
      "3628800\n"
     ]
    }
   ],
   "source": [
    "print(multiple(10))"
   ]
  },
  {
   "cell_type": "markdown",
   "metadata": {},
   "source": [
    "<div style=\"background: lightyellow; height:50px; display: flex; align-items: center\">\n",
    "    <h4> 예제2. 숫자가 들어 있는 리스트가 주어졌을 때, 리스트의 합을 리턴하는 함수 만들기</h4>\n",
    "</div>"
   ]
  },
  {
   "cell_type": "code",
   "execution_count": 86,
   "metadata": {},
   "outputs": [
    {
     "data": {
      "text/plain": [
       "[49, 58, 42, 33, 75, 72, 92, 6, 71, 98]"
      ]
     },
     "execution_count": 86,
     "metadata": {},
     "output_type": "execute_result"
    }
   ],
   "source": [
    "import random\n",
    "\n",
    "data_list = random.sample(range(100),10)\n",
    "data_list"
   ]
  },
  {
   "cell_type": "code",
   "execution_count": 87,
   "metadata": {},
   "outputs": [],
   "source": [
    "# 반복문\n",
    "def arr_sum(data):\n",
    "    sum = data[0]\n",
    "    for i in range(1, len(data)):\n",
    "        sum += data[i]\n",
    "    return sum        "
   ]
  },
  {
   "cell_type": "code",
   "execution_count": 88,
   "metadata": {},
   "outputs": [
    {
     "name": "stdout",
     "output_type": "stream",
     "text": [
      "596\n"
     ]
    }
   ],
   "source": [
    "print(arr_sum(data_list))"
   ]
  },
  {
   "cell_type": "code",
   "execution_count": 93,
   "metadata": {},
   "outputs": [],
   "source": [
    "# 재귀(내가 푼거!) => 치명적 오류...!! 1번만 실행가능함..pop하면서 ㅠㅠ 배열이 변경되니까\n",
    "def arr_sum2(data):\n",
    "    if len(data) ==1:\n",
    "        return data[0]\n",
    "    return data.pop() + arr_sum2(data)"
   ]
  },
  {
   "cell_type": "code",
   "execution_count": 94,
   "metadata": {},
   "outputs": [
    {
     "name": "stdout",
     "output_type": "stream",
     "text": [
      "596\n"
     ]
    }
   ],
   "source": [
    "print(arr_sum2(data_list))"
   ]
  },
  {
   "cell_type": "code",
   "execution_count": 91,
   "metadata": {},
   "outputs": [],
   "source": [
    "def arr_sum3(data):\n",
    "    if len(data)<=1:\n",
    "        return data[0]\n",
    "    return data[0] + arr_sum3(data[1:])"
   ]
  },
  {
   "cell_type": "code",
   "execution_count": 92,
   "metadata": {},
   "outputs": [
    {
     "name": "stdout",
     "output_type": "stream",
     "text": [
      "596\n"
     ]
    }
   ],
   "source": [
    "print(arr_sum3(data_list))"
   ]
  },
  {
   "cell_type": "markdown",
   "metadata": {},
   "source": [
    "<div style=\"background: lightyellow; height:100px; \">\n",
    "    <h4> 예제3 </h4>\n",
    "    <p>- 회문(palindrome)은 순서를 거꾸로 읽어도 제대로 읽은 것과 같은 단어와 문장을 의미.</p>\n",
    "    <p>- 회문을 판별 할 수 있는 함수 리스트 슬라이싱을 활용해서 만드세요.</p>\n",
    "</div>"
   ]
  },
  {
   "cell_type": "code",
   "execution_count": 2,
   "metadata": {},
   "outputs": [
    {
     "name": "stdout",
     "output_type": "stream",
     "text": [
      "p\n",
      "op\n"
     ]
    }
   ],
   "source": [
    "string = 'pop'\n",
    "print(string[:1])\n",
    "print(string[1:])"
   ]
  },
  {
   "cell_type": "code",
   "execution_count": 12,
   "metadata": {},
   "outputs": [],
   "source": [
    "# 내가 푼 거\n",
    "def palindrome(data):\n",
    "    for i in range(len(data)//2):\n",
    "        if data[i] == data[-(i+1)]:\n",
    "            continue\n",
    "        else:\n",
    "            return False\n",
    "    return True"
   ]
  },
  {
   "cell_type": "code",
   "execution_count": 20,
   "metadata": {},
   "outputs": [
    {
     "name": "stdout",
     "output_type": "stream",
     "text": [
      "True\n",
      "True\n",
      "True\n",
      "False\n"
     ]
    }
   ],
   "source": [
    "print(palindrome('pop'))\n",
    "print(palindrome('poop'))\n",
    "print(palindrome('level'))\n",
    "print(palindrome('motor'))"
   ]
  },
  {
   "cell_type": "code",
   "execution_count": 34,
   "metadata": {},
   "outputs": [],
   "source": [
    "# 재귀로 내가 푼거\n",
    "def rec_palindrome(data):\n",
    "    #print(data)\n",
    "    if len(data)<=1:\n",
    "        return True\n",
    "    if data[0] != data[-1]:\n",
    "        return False\n",
    "    return rec_palindrome(data[1:-1])"
   ]
  },
  {
   "cell_type": "code",
   "execution_count": 36,
   "metadata": {},
   "outputs": [
    {
     "name": "stdout",
     "output_type": "stream",
     "text": [
      "True\n"
     ]
    }
   ],
   "source": [
    "print(rec_palindrome('poop'))"
   ]
  },
  {
   "cell_type": "code",
   "execution_count": 41,
   "metadata": {},
   "outputs": [],
   "source": [
    "# 선생님 \n",
    "def tech_palindrome(data):\n",
    "    if len(data) <= 1:\n",
    "        return True\n",
    "    if data[0] == data[-1]:\n",
    "        return tech_palindrome(data[1:-1])\n",
    "    else:\n",
    "        return False"
   ]
  },
  {
   "cell_type": "code",
   "execution_count": 42,
   "metadata": {},
   "outputs": [
    {
     "name": "stdout",
     "output_type": "stream",
     "text": [
      "True\n"
     ]
    }
   ],
   "source": [
    "print(tech_palindrome('level'))"
   ]
  },
  {
   "cell_type": "markdown",
   "metadata": {},
   "source": [
    "<div style=\"background: lightyellow; height:150px;\">\n",
    "    <h4> 예제4 </h4>\n",
    "    <p> 정수 n 에 대해 n이 홀수이면 3*n + 1</p>\n",
    "    <p> n이 짝수이면 n을 2로 나눈다.</p>\n",
    "    <p>이렇게 계속 진행해서 n이 1이 될때까지 2와 3의 과정 반복</p>\n",
    "</div>"
   ]
  },
  {
   "cell_type": "code",
   "execution_count": 50,
   "metadata": {},
   "outputs": [],
   "source": [
    "# 내가 푼거\n",
    "def function(n):\n",
    "    while n!=1:\n",
    "        print(n)\n",
    "        if n %2 == 0:\n",
    "            n = n//2\n",
    "        elif n %2 != 0:\n",
    "            n = 3*n + 1\n",
    "    return n"
   ]
  },
  {
   "cell_type": "code",
   "execution_count": 51,
   "metadata": {},
   "outputs": [
    {
     "name": "stdout",
     "output_type": "stream",
     "text": [
      "3\n",
      "10\n",
      "5\n",
      "16\n",
      "8\n",
      "4\n",
      "2\n",
      "1\n"
     ]
    }
   ],
   "source": [
    "print(function(3))"
   ]
  },
  {
   "cell_type": "code",
   "execution_count": 64,
   "metadata": {},
   "outputs": [],
   "source": [
    "# 내가 푼거\n",
    "def rec_function(n):\n",
    "    print(n)\n",
    "    if n==1:\n",
    "        return n\n",
    "    elif n%2 != 0:\n",
    "        return rec_function(3*n+1)\n",
    "    elif n%2 ==0:\n",
    "        return rec_function(n//2)"
   ]
  },
  {
   "cell_type": "code",
   "execution_count": 65,
   "metadata": {},
   "outputs": [
    {
     "name": "stdout",
     "output_type": "stream",
     "text": [
      "3\n",
      "10\n",
      "5\n",
      "16\n",
      "8\n",
      "4\n",
      "2\n",
      "1\n"
     ]
    },
    {
     "data": {
      "text/plain": [
       "1"
      ]
     },
     "execution_count": 65,
     "metadata": {},
     "output_type": "execute_result"
    }
   ],
   "source": [
    "rec_function(3)"
   ]
  },
  {
   "cell_type": "code",
   "execution_count": 61,
   "metadata": {},
   "outputs": [],
   "source": [
    "def tech_function(n):\n",
    "    print(n)\n",
    "    if n ==1:\n",
    "        return n\n",
    "    if n % 2 ==1:\n",
    "        return tech_function((3*n)+1)\n",
    "    else:\n",
    "        return tech_function(n//2)"
   ]
  },
  {
   "cell_type": "code",
   "execution_count": 62,
   "metadata": {},
   "outputs": [
    {
     "name": "stdout",
     "output_type": "stream",
     "text": [
      "3\n",
      "10\n",
      "5\n",
      "16\n",
      "8\n",
      "4\n",
      "2\n",
      "1\n"
     ]
    },
    {
     "data": {
      "text/plain": [
       "1"
      ]
     },
     "execution_count": 62,
     "metadata": {},
     "output_type": "execute_result"
    }
   ],
   "source": [
    "tech_function(3)"
   ]
  },
  {
   "cell_type": "markdown",
   "metadata": {},
   "source": [
    "#### 예제 5\n",
    "- 정수 n 이 주어졌을 때 n을 1,2,3의 합으로 나타낼 수 있는 방법의 수"
   ]
  },
  {
   "cell_type": "code",
   "execution_count": 81,
   "metadata": {},
   "outputs": [],
   "source": [
    "def function5(n):\n",
    "    if n <=2:\n",
    "        return n\n",
    "    if n==3:\n",
    "        return 4\n",
    "    return function5(n-1) + function5(n-2) +  function5(n-3) "
   ]
  },
  {
   "cell_type": "code",
   "execution_count": 84,
   "metadata": {},
   "outputs": [
    {
     "name": "stdout",
     "output_type": "stream",
     "text": [
      "13\n"
     ]
    }
   ],
   "source": [
    "print(function5(5))"
   ]
  },
  {
   "cell_type": "code",
   "execution_count": 85,
   "metadata": {},
   "outputs": [],
   "source": [
    "def tech_function5(data):\n",
    "    if data == 1:\n",
    "        return 1\n",
    "    elif data ==2:\n",
    "        return 2\n",
    "    elif data ==3:\n",
    "        return 4\n",
    "    return tech_function5(data-1)+ tech_function5(data-2)+ tech_function5(data-3)"
   ]
  },
  {
   "cell_type": "code",
   "execution_count": 86,
   "metadata": {},
   "outputs": [
    {
     "name": "stdout",
     "output_type": "stream",
     "text": [
      "13\n"
     ]
    }
   ],
   "source": [
    "print(tech_function5(5))"
   ]
  }
 ],
 "metadata": {
  "kernelspec": {
   "display_name": "Python 3",
   "language": "python",
   "name": "python3"
  },
  "language_info": {
   "codemirror_mode": {
    "name": "ipython",
    "version": 3
   },
   "file_extension": ".py",
   "mimetype": "text/x-python",
   "name": "python",
   "nbconvert_exporter": "python",
   "pygments_lexer": "ipython3",
   "version": "3.7.4"
  }
 },
 "nbformat": 4,
 "nbformat_minor": 2
}
