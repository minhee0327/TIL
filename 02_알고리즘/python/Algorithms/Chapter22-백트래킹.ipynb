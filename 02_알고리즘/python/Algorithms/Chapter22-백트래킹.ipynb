{
 "cells": [
  {
   "cell_type": "markdown",
   "metadata": {},
   "source": [
    "### 1. 백트래킹 핵심\n",
    "- 제약 조건 만족문제에서 해를 찾기 위한 전략\n",
    "- 상태 공간트리(State Space Tree): 문제 해결 과정의 중간 상태를 각각의 노드로 나타낸 트리\n",
    "- 트리구조를 기반으로 DFS 로 깊이 탐색을 진행하면서 각 추트에 대해 조건에 부합하는지 체크(Promising)\n",
    "- 만약 해당 트리(나무)에서 조건에 맞지 않는 노드는 더이상 DFS로 깊이 탐색을 진행하지 않고 가지를 쳐버림(Pruning)"
   ]
  },
  {
   "cell_type": "markdown",
   "metadata": {},
   "source": [
    "### 2. 대표문제: N Queen 문제\n",
    "1. 수직체크: 이전 선택된 노드들의 열(col)값이 일치하면, 같은 열에 배치되어있다는 이야기 이므로 해당 안됨.\n",
    "2. 대각선체크: 이전에 선택된 노드들로부터 각 col값의 차이(절댓값)가 떨어진 길이(row값)와 동일한 경우에도 대각선에 배치된 상태이므로 해당안됨"
   ]
  },
  {
   "cell_type": "markdown",
   "metadata": {},
   "source": [
    "### 3. 구현"
   ]
  },
  {
   "cell_type": "code",
   "execution_count": 5,
   "metadata": {},
   "outputs": [],
   "source": [
    "def is_available(candidate, current_col):\n",
    "    current_row = len(candidate)\n",
    "    for queen_row in range(current_row):\n",
    "        if candidate[queen_row] == current_col or abs(candidate[queen_row]-current_col) == current_row - queen_row:\n",
    "            return False\n",
    "    return True\n",
    "\n",
    "# current_candidate: 지금까지 배치뒨 위치 정보\n",
    "def DFS(N, current_row, current_candidate, final_result): \n",
    "    if current_row == N:\n",
    "        final_result.append(current_candidate[:]) # 얇은 복사.\n",
    "        return \n",
    "    \n",
    "    for candidate_col in range(N):\n",
    "        if is_available(current_candidate, candidate_col):\n",
    "            current_candidate.append(candidate_col)\n",
    "            DFS(N, current_row+1, current_candidate, final_result)\n",
    "            current_candidate.pop()\n",
    "        \n",
    "\n",
    "def solve_n_queen(N):\n",
    "    final_result = [] # 배치된 열의 정보\n",
    "    DFS(N, 0, [], final_result)\n",
    "    return final_result  "
   ]
  },
  {
   "cell_type": "code",
   "execution_count": 6,
   "metadata": {},
   "outputs": [
    {
     "data": {
      "text/plain": [
       "[[1, 3, 0, 2], [2, 0, 3, 1]]"
      ]
     },
     "execution_count": 6,
     "metadata": {},
     "output_type": "execute_result"
    }
   ],
   "source": [
    "solve_n_queen(4)"
   ]
  },
  {
   "cell_type": "markdown",
   "metadata": {},
   "source": [
    "### 혼자 다시 연습해보기"
   ]
  },
  {
   "cell_type": "code",
   "execution_count": 10,
   "metadata": {},
   "outputs": [],
   "source": [
    "def is_availabe(candidate_col, candidate):\n",
    "    candidate_row = len(candidate)\n",
    "    for q_row in range(candidate_row):\n",
    "        if candidate[q_row] == candidate_col or abs(candidate[q_row] - candidate_col) == candidate_row - q_row:\n",
    "            return False\n",
    "    return True      \n",
    "        \n",
    "def DFS(N, current_row, candidate, ans):\n",
    "    if N == current_row:\n",
    "        ans.append(candidate[:])\n",
    "        return\n",
    "    \n",
    "    for candidate_col in range(N):\n",
    "        if is_availabe(candidate_col, candidate):\n",
    "            candidate.append(candidate_col)\n",
    "            DFS(N, current_row+1, candidate, ans)\n",
    "            candidate.pop()\n",
    "    \n",
    "def back_tracking(N):\n",
    "    ans = []\n",
    "    DFS(N, 0,[],ans)\n",
    "    return ans"
   ]
  },
  {
   "cell_type": "code",
   "execution_count": 11,
   "metadata": {},
   "outputs": [
    {
     "data": {
      "text/plain": [
       "[[1, 3, 0, 2], [2, 0, 3, 1]]"
      ]
     },
     "execution_count": 11,
     "metadata": {},
     "output_type": "execute_result"
    }
   ],
   "source": [
    "back_tracking(4)"
   ]
  }
 ],
 "metadata": {
  "kernelspec": {
   "display_name": "Python 3",
   "language": "python",
   "name": "python3"
  },
  "language_info": {
   "codemirror_mode": {
    "name": "ipython",
    "version": 3
   },
   "file_extension": ".py",
   "mimetype": "text/x-python",
   "name": "python",
   "nbconvert_exporter": "python",
   "pygments_lexer": "ipython3",
   "version": "3.7.4"
  }
 },
 "nbformat": 4,
 "nbformat_minor": 2
}
