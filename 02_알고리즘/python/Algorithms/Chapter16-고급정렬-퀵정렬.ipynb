{
 "cells": [
  {
   "cell_type": "markdown",
   "metadata": {},
   "source": [
    "## 대표적인 정렬 5: 퀵정렬(quick sort)"
   ]
  },
  {
   "cell_type": "markdown",
   "metadata": {},
   "source": [
    "### 1. 퀵 정렬(quick sort)이란?\n",
    "- 정렬 알고리즘의 꽃\n",
    "- 기준점(pivot이라고 부름) 을 정해서 기준점보다 작은 데이터는 왼쪽(left) 큰 데이터는 오른쪽(right)으로 모으는 함수 작성\n",
    "- 각 왼쪽(left), 오른쪽(right) 은 재귀용법을 사용해서 다시 동일하게 함수를 호출하여 위 작업을 반복함.\n",
    "- 함수는 왼쪽(left) + 기준점(pivot) + 오른쪽(right) 을 리턴함"
   ]
  },
  {
   "cell_type": "markdown",
   "metadata": {},
   "source": [
    "### 2. 구현해보기"
   ]
  },
  {
   "cell_type": "code",
   "execution_count": 27,
   "metadata": {},
   "outputs": [],
   "source": [
    "# 혼자\n",
    "def quick_sort(list):\n",
    "    if len(list) <=1:\n",
    "        return list\n",
    "    \n",
    "    left = []\n",
    "    right = []\n",
    "    pivot = list[0]\n",
    "    \n",
    "    for i in range(1, len(list)):\n",
    "        if pivot > list[i]:\n",
    "            left.append(list[i])\n",
    "        else:\n",
    "            right.append(list[i])\n",
    "    \n",
    "    return quick_sort(left)+ [pivot]+ quick_sort(right)"
   ]
  },
  {
   "cell_type": "code",
   "execution_count": 28,
   "metadata": {},
   "outputs": [
    {
     "data": {
      "text/plain": [
       "[1, 2, 3]"
      ]
     },
     "execution_count": 28,
     "metadata": {},
     "output_type": "execute_result"
    }
   ],
   "source": [
    "quick_sort([3,1,2])"
   ]
  },
  {
   "cell_type": "code",
   "execution_count": 34,
   "metadata": {},
   "outputs": [],
   "source": [
    "# 쌤\n",
    "def tech_qsort(data):\n",
    "    if len(data)<=1:\n",
    "        return data\n",
    "    left, right = list(), list()\n",
    "    pivot = data[0]\n",
    "    \n",
    "    for index in range(1 , len(data)):\n",
    "        if pivot > data[index]:\n",
    "            left.append(data[index])\n",
    "        else:\n",
    "            right.append(data[index])\n",
    "    return tech_qsort(left) + [pivot] + tech_qsort(right)"
   ]
  },
  {
   "cell_type": "code",
   "execution_count": 33,
   "metadata": {},
   "outputs": [
    {
     "name": "stdout",
     "output_type": "stream",
     "text": [
      "[26, 32, 35, 55, 57, 69, 76, 79, 86, 93]\n",
      "[26, 32, 35, 55, 57, 69, 76, 79, 86, 93]\n"
     ]
    }
   ],
   "source": [
    "import random\n",
    "\n",
    "data_list = random.sample(range(100),10)\n",
    "print(quick_sort(data_list))\n",
    "print(tech_qsort(data_list))"
   ]
  },
  {
   "cell_type": "code",
   "execution_count": 35,
   "metadata": {},
   "outputs": [],
   "source": [
    "# list-comprehension 사용해서 작성해보기\n",
    "def com_qsort(data):\n",
    "    if len(data)<=1:\n",
    "        return data\n",
    "    left, right = list(), list()\n",
    "    pivot = data[0]\n",
    "    left = [i for i in data[1:] if pivot> i]\n",
    "    right = [i for i in data[1:] if pivot<=i]\n",
    "    \n",
    "    return com_qsort(left) + [pivot] + com_qsort(right)"
   ]
  },
  {
   "cell_type": "code",
   "execution_count": 36,
   "metadata": {},
   "outputs": [
    {
     "data": {
      "text/plain": [
       "[5, 9, 21, 27, 35, 49, 50, 56, 71, 91]"
      ]
     },
     "execution_count": 36,
     "metadata": {},
     "output_type": "execute_result"
    }
   ],
   "source": [
    "import random\n",
    "\n",
    "data_list = random.sample(range(100),10)\n",
    "com_qsort(data_list)"
   ]
  },
  {
   "cell_type": "markdown",
   "metadata": {},
   "source": [
    "### 3. 시간 복잡도"
   ]
  },
  {
   "cell_type": "markdown",
   "metadata": {},
   "source": [
    "- 시간복잡도 평균적으로 O(n log n)\n",
    "- 단, 최악의 경우 O(n²)\n",
    "    - 맨 처음 기준값(pivot)이 가장 크거나 가장 작을 경우\n",
    "    - 모든 데이터를 비교해야하기 때문에"
   ]
  }
 ],
 "metadata": {
  "kernelspec": {
   "display_name": "Python 3",
   "language": "python",
   "name": "python3"
  },
  "language_info": {
   "codemirror_mode": {
    "name": "ipython",
    "version": 3
   },
   "file_extension": ".py",
   "mimetype": "text/x-python",
   "name": "python",
   "nbconvert_exporter": "python",
   "pygments_lexer": "ipython3",
   "version": "3.7.4"
  }
 },
 "nbformat": 4,
 "nbformat_minor": 2
}
