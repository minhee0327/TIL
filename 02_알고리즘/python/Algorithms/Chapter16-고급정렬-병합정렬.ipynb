{
 "cells": [
  {
   "cell_type": "markdown",
   "metadata": {},
   "source": [
    "## 1. 병합정렬\n",
    "- 재귀 용법을 활용한 정렬 알고리즘\n",
    "    1. 리스트를 절반으로 잘라 비슷한 크기의 두 부분 리스트로 나눈다.\n",
    "    2. 각 부분 리스트를 재귀적으로 합병 정렬을 이용해 정렬한다.\n",
    "    3. 두 부분 리스트를 다시 하나의 정렬된 리스트로 합병한다."
   ]
  },
  {
   "cell_type": "code",
   "execution_count": 5,
   "metadata": {},
   "outputs": [],
   "source": [
    "# 1. 데이터 리스트가 있을 때, 리스트를 앞뒤로 짜르는 코드 작성\n",
    "def split(data_list):\n",
    "    mid = len(data_list)//2\n",
    "    left = data_list[:mid]\n",
    "    right = data_list[mid:]\n",
    "    print(left, right)"
   ]
  },
  {
   "cell_type": "code",
   "execution_count": 8,
   "metadata": {},
   "outputs": [
    {
     "name": "stdout",
     "output_type": "stream",
     "text": [
      "[42, 91, 96, 61] [90, 4, 79, 87, 99]\n"
     ]
    }
   ],
   "source": [
    "import random\n",
    "\n",
    "data_list = random.sample(range(100),9)\n",
    "split(data_list)"
   ]
  },
  {
   "cell_type": "code",
   "execution_count": 35,
   "metadata": {},
   "outputs": [],
   "source": [
    "# 2. 재귀적으로 리스트를 쪼개서, 1개가 될때까지 쪼개기 => mergesplit(data_list)\n",
    "def mergesplit(data):\n",
    "    if len(data)<=1:\n",
    "        return data\n",
    "    \n",
    "    mid = len(data)//2\n",
    "    left = mergesplit(data_list[:mid])\n",
    "    right = mergesplit(data_list[mid:]) \n",
    "    \n",
    "    return merge(left, right)"
   ]
  },
  {
   "cell_type": "code",
   "execution_count": 40,
   "metadata": {},
   "outputs": [],
   "source": [
    "# 3. merge 함수 구현하기\n",
    "\n",
    "def merge(left, right):\n",
    "    lp , rp = 0, 0\n",
    "    new_list = []\n",
    "    \n",
    "    # case1: left/right 아직 남아있을 때\n",
    "    while lp < len(left) and rp <len(right):\n",
    "        if left[lp] > right[rp]:\n",
    "            new_list.append(right[rp])\n",
    "            rp +=1\n",
    "        else:\n",
    "            new_list.append(left[lp])\n",
    "            lp +=1\n",
    "    \n",
    "    # case2: left만 남아있을 때\n",
    "    while lp < len(left):\n",
    "        new_list.append(left[lp])\n",
    "        lp+=1\n",
    "            \n",
    "    # case3: right만 남아있을 때\n",
    "    while rp<len(right):\n",
    "        new_list.append(right[rp])\n",
    "        rp+=1   \n",
    "    \n",
    "    return new_list"
   ]
  },
  {
   "cell_type": "markdown",
   "metadata": {},
   "source": [
    "### 최종코드"
   ]
  },
  {
   "cell_type": "code",
   "execution_count": 42,
   "metadata": {},
   "outputs": [],
   "source": [
    "# 3. merge 함수 구현하기\n",
    "\n",
    "def merge(left, right):\n",
    "    lp , rp = 0, 0\n",
    "    new_list = []\n",
    "    \n",
    "    # case1: left/right 아직 남아있을 때\n",
    "    while lp < len(left) and rp <len(right):\n",
    "        if left[lp] > right[rp]:\n",
    "            new_list.append(right[rp])\n",
    "            rp +=1\n",
    "        else:\n",
    "            new_list.append(left[lp])\n",
    "            lp +=1\n",
    "    \n",
    "    # case2: left만 남아있을 때\n",
    "    while lp < len(left):\n",
    "        new_list.append(left[lp])\n",
    "        lp+=1\n",
    "            \n",
    "    # case3: right만 남아있을 때\n",
    "    while rp<len(right):\n",
    "        new_list.append(right[rp])\n",
    "        rp+=1   \n",
    "    \n",
    "    return new_list\n",
    "\n",
    "def mergesplit(data):\n",
    "    if len(data)<=1:\n",
    "        return data\n",
    "    \n",
    "    mid = len(data)//2\n",
    "    left = mergesplit(data[:mid])\n",
    "    right = mergesplit(data[mid:]) \n",
    "    \n",
    "    return merge(left, right)"
   ]
  },
  {
   "cell_type": "code",
   "execution_count": 43,
   "metadata": {},
   "outputs": [
    {
     "data": {
      "text/plain": [
       "[22, 28, 36, 39, 48, 49, 52, 56, 57, 61]"
      ]
     },
     "execution_count": 43,
     "metadata": {},
     "output_type": "execute_result"
    }
   ],
   "source": [
    "import random\n",
    "\n",
    "data_list = random.sample(range(100),10)\n",
    "mergesplit(data_list)"
   ]
  },
  {
   "cell_type": "markdown",
   "metadata": {},
   "source": [
    "### 시간복잡도"
   ]
  },
  {
   "cell_type": "markdown",
   "metadata": {},
   "source": [
    "- O(n log n)"
   ]
  }
 ],
 "metadata": {
  "kernelspec": {
   "display_name": "Python 3",
   "language": "python",
   "name": "python3"
  },
  "language_info": {
   "codemirror_mode": {
    "name": "ipython",
    "version": 3
   },
   "file_extension": ".py",
   "mimetype": "text/x-python",
   "name": "python",
   "nbconvert_exporter": "python",
   "pygments_lexer": "ipython3",
   "version": "3.7.4"
  }
 },
 "nbformat": 4,
 "nbformat_minor": 2
}
