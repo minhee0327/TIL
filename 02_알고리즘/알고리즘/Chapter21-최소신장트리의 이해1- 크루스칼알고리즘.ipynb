{
 "cells": [
  {
   "cell_type": "markdown",
   "metadata": {},
   "source": [
    "### 1. 최소신장트리의 이해\n",
    "1. 신장트리(Spanning Tree)란?\n",
    "    - 원래의 그래프의 모든 노드가 연결되어 있으면서, 트리의 속성을 만족하는 그래프\n",
    "    - 신장트리의 조건\n",
    "        - 본래의 그래프의 모든 노드를 포함해야함\n",
    "        - 모든 노드가 서로 연결\n",
    "        - 트리의 속성을 만족(사이클 존재 X)\n",
    "    \n",
    "2. 최소신장트리\n",
    "    - Minimum Spanning Tree(MST)라고 불리움\n",
    "    - 가능한 Spanning Tree 중, 간선의 가중치 합이 최소인 Spanning Tree 를 지칭함\n",
    "    \n",
    "3. 최소신장트리 알고리즘\n",
    "    - 그래프에서 최소 신장 트리를 찾을 수 있는 알고리즘 존재\n",
    "    - 대표적인 신장트리 알고리즘\n",
    "        - 크루스칼 알고리즘\n",
    "        - 프림알고리즘"
   ]
  },
  {
   "cell_type": "markdown",
   "metadata": {},
   "source": [
    "### 2. 크루스칼 알고리즘\n",
    "1. 모든 정점을 독립적인 집합으로 만든다.\n",
    "2. 모든 간선 비용을 기준으로 정렬, 비용이 작은 간선부터 양 끝의 두 정점을 비교한다. (union- find)\n",
    "    - 집합 안에, 양 끝 두 정점이 들어있다면, 사이클이 생기니까 해당 간선은 포함시키지 않는다.\n",
    "3. 두 정점의 최상위 정점을 확인하고, 서로 다를 경우 두 정점을 연결한다.(union- find)\n",
    "    - 사이클이 생기지 않도록하는 것 \n",
    "> 탐욕 알고리즘을 기초로 하고있음(당장 눈앞의 최소 비용을 선택하여, 결과적으로 최적의 솔루션을 찾음)"
   ]
  },
  {
   "cell_type": "markdown",
   "metadata": {},
   "source": [
    "### 3. Union-Find 알고리즘\n",
    "- Disjoint Set을 표현할때 사용하는 알고리즘으로, 트리구조 활용하는 알고리즘\n",
    "- 간단하게, 노드들 중에 연결된 노드를 찾거나, 노드들을 서로 연결할때 (합칠 때) 사용\n",
    "- Disjoint Set이란\n",
    "    - **서로 중복되지 않는 부분 집합들로 나눠진 원소들에 대한 정보를 저장하고 조작하는 자료구조**\n",
    "    - 공통 원소가 없는(서로소) 상호 배타적인 부분 집합들로 나눠진 원소들에 대한 자료구조 의미\n",
    "    - **Disjoint Set == 서로소 집합 자료구조**\n",
    "- 구현\n",
    "    1. 초기화: n개의 원소가 개별 집합으로 이루어지도록 초기화\n",
    "    2. union: 두 개별 집합을 하나의 집합으로 합침, 두 트리를 하나의 트리로 만듬\n",
    "    3. find: 여러 노드가 존재할 때, 두 개의 노드를 선택해서, 현재 두 노드가 서로 같은 그래프에 속하는지 판별하기 위해,  \n",
    "        각 그룹의 최 상단원소(즉, 루트노드를) 확인\n",
    "- 고려할 점\n",
    "    - union 순서에 따라, 최악의 경우 링크드 리스트와 같은 형태가 될 수 있음. O(N)\n",
    "    - 해당 문제를 위해, union-by-rank, path compression 기법을 사용\n",
    "        - union-by-rank 기법\n",
    "            - 각 트리에 대한 높이(rank)를 기억해두고\n",
    "            - Union시, 두 트리 높이(rank)가 다르면, 높이가 작은 트리를 높이가 큰 트리에 붙임.  \n",
    "                (즉, 높이가 큰 트리의 루트노드가 합친 집합의 루트노드가 되게함)\n",
    "            - 두 트리 높이가 같으면, 한 쪽 트리 높이를 1 증가시킨 후, 다른쪽 트리를 해당 트리에 붙임\n",
    "            - union-by-rank 기법을 활용하면, O(logN)의 시간 복잡도를 가짐.\n",
    "        - Path compression\n",
    "            - Find를 실행한 노드에서 거쳐간 노드를 루트에 다이렉트로 연결하는 기법\n",
    "            - Find를 실행한 노드 이후부터는 루트 노드를 한번에 알 수 있음\n",
    "        - union-by-rank와 path compression 기법을 사용하면, 시간복잡도 O(MlogM)\n",
    "            - O(logN)은 최악의 경우, O(1)에 가까움"
   ]
  },
  {
   "cell_type": "markdown",
   "metadata": {},
   "source": [
    "### 4. 크루스칼 알고리즘 구현"
   ]
  },
  {
   "cell_type": "code",
   "execution_count": 5,
   "metadata": {},
   "outputs": [],
   "source": [
    "mygraph ={\n",
    "    'vertices':['A','B','C','D','E','F','G'],\n",
    "    'edges':[\n",
    "        (7,'A','B'),\n",
    "        (5,'A','D'),\n",
    "        (7,'B','A'),\n",
    "        (9,'B','D'),\n",
    "        (8,'B','C'),\n",
    "        (7,'B','E'),\n",
    "        (8,'C','B'),\n",
    "        (5,'C','E'),\n",
    "        (5,'D','A'),\n",
    "        (9,'D','B'),\n",
    "        (7,'D','E'),\n",
    "        (6,'D','F'),\n",
    "        (5,'E','C'),\n",
    "        (7,'E','D'),\n",
    "        (8,'E','F'),\n",
    "        (9,'E','G'),\n",
    "        (6,'F','D'),\n",
    "        (8,'F','E'),\n",
    "        (11,'F','G'),\n",
    "        (9,'G','E'),\n",
    "        (11,'G','F')\n",
    "    ]\n",
    "}"
   ]
  },
  {
   "cell_type": "code",
   "execution_count": 6,
   "metadata": {},
   "outputs": [],
   "source": [
    "parent = dict() # 각 노드마다, 부모노드의 값을 저장\n",
    "rank = dict() # 각 노드의 rank 번호(높이)\n",
    "\n",
    "def find(node):\n",
    "    # path compression\n",
    "    if parent[node] != node: # (부모노드와 해당노드가 다르다면) 루트 노드가 있다는 의미 \n",
    "        parent[node] = find(parent[node]) # 해당노드의 부모노드를 재귀적으로 계속 찾아감.\n",
    "    return parent[node] #r결과적으로 루트노드를 반환\n",
    "        \n",
    "\n",
    "def union(node_v, node_u):\n",
    "    root1 = find(node_v)\n",
    "    root2 = find(node_u)\n",
    "    \n",
    "    # union-by-rank 기법\n",
    "    if rank[root1] > rank [root2]:\n",
    "        parent[root2] = root1\n",
    "    else:\n",
    "        parent[root1] = root2\n",
    "        if rank[root1] == rank[root2]:\n",
    "            rank[root2] += 1\n",
    "\n",
    "def make_set(node):\n",
    "    parent[node] = node\n",
    "    rank[node] = 0\n",
    "\n",
    "def kruskal(graph):\n",
    "    mst = list()\n",
    "    \n",
    "    #1. 초기화\n",
    "    for node in graph['vertices']:\n",
    "        make_set(node)    \n",
    "        \n",
    "    # 2. 간선의 가중치 순으로 정렬\n",
    "    edges = graph['edges']\n",
    "    edges.sort()\n",
    "    \n",
    "    # 3. 간선연결 (사이클 없는)\n",
    "    # 각 루트노드 같은지 여부 파악 다르다면 union\n",
    "    for edge in edges:\n",
    "        weigh, node_v, node_u = edge\n",
    "        if find(node_v) != find(node_u):\n",
    "            union(node_v, node_u)\n",
    "            mst.append(edge)\n",
    "    \n",
    "    return mst"
   ]
  },
  {
   "cell_type": "code",
   "execution_count": 7,
   "metadata": {},
   "outputs": [
    {
     "data": {
      "text/plain": [
       "[(5, 'A', 'D'),\n",
       " (5, 'C', 'E'),\n",
       " (6, 'D', 'F'),\n",
       " (7, 'A', 'B'),\n",
       " (7, 'B', 'E'),\n",
       " (9, 'E', 'G')]"
      ]
     },
     "execution_count": 7,
     "metadata": {},
     "output_type": "execute_result"
    }
   ],
   "source": [
    "kruskal(mygraph)"
   ]
  },
  {
   "cell_type": "markdown",
   "metadata": {},
   "source": [
    "### 5. 시간복잡도\n",
    "- O(ElogE)\n",
    "    - 초기화 하는 과정은 노드의 수만큼 O(V)\n",
    "    - 간선을 기준으로 sort() => O(ElogE)\n",
    "    - Union- Find => O(E) \n",
    "- 가장 오래 걸리는 시간 O(ElogE)"
   ]
  }
 ],
 "metadata": {
  "kernelspec": {
   "display_name": "Python 3",
   "language": "python",
   "name": "python3"
  },
  "language_info": {
   "codemirror_mode": {
    "name": "ipython",
    "version": 3
   },
   "file_extension": ".py",
   "mimetype": "text/x-python",
   "name": "python",
   "nbconvert_exporter": "python",
   "pygments_lexer": "ipython3",
   "version": "3.7.4"
  }
 },
 "nbformat": 4,
 "nbformat_minor": 2
}
