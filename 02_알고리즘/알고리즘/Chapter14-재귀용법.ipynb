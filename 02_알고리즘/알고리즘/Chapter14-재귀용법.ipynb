{
 "cells": [
  {
   "cell_type": "markdown",
   "metadata": {},
   "source": [
    "## 재귀용법(recursive call, 재귀 호출)\n",
    "\n",
    "1. 재귀 용법(recursive call, 재귀호출)\n",
    "    - 함수 안에서 동일한 함수를 호출하는 형태\n",
    "    - 여러 알고리즘 작성 시 사용되므로 익숙해져야함\n",
    "2. 재귀 용법 이해\n",
    "    - 예제를 풀어보며, 재귀용법 이해하기\n",
    "    \n",
    "### 1. 예제\n",
    "    - factorial 구하는 알고리즘 recursive call을 활용해서 알고리즘 작성하기"
   ]
  },
  {
   "cell_type": "code",
   "execution_count": 1,
   "metadata": {},
   "outputs": [],
   "source": [
    "def factorial(n):\n",
    "    if n > 1:\n",
    "        return n * factorial(n-1)\n",
    "    else:\n",
    "        return n\n",
    "    "
   ]
  },
  {
   "cell_type": "code",
   "execution_count": 4,
   "metadata": {},
   "outputs": [
    {
     "name": "stdout",
     "output_type": "stream",
     "text": [
      "0\n",
      "1\n",
      "2\n",
      "6\n",
      "24\n",
      "120\n",
      "720\n",
      "5040\n",
      "40320\n",
      "362880\n"
     ]
    }
   ],
   "source": [
    "for i in range(10):\n",
    "    print(factorial(i))"
   ]
  },
  {
   "cell_type": "markdown",
   "metadata": {},
   "source": [
    "### 2. 시간복잡도와 공간복잡도\n",
    "- factorial(n) 은 n-1 번의 factorial()함수를 호출해서, 곱셈을 함\n",
    "    - 일종의 n-1 번 반복문을 호출한 것과 동일\n",
    "    - factorial() 함수를 호출할 때마다, 지역변수 n이 생성됨\n",
    "- 시간복잡도, 공간복잡도 모두 O(n-1) 이므로 결국, 둘 다 O(n)\n"
   ]
  },
  {
   "cell_type": "markdown",
   "metadata": {},
   "source": [
    "### 3. 재귀호출의 일반적인 형태\n",
    "```python\n",
    "def function(입력):\n",
    "    if 입력> 일정값: # 입력값이 일정값 이상일 때\n",
    "        return function(입력-1) # 입력값보다 작은값\n",
    "    else:\n",
    "        return 일정값, 입력값 또는 특정값 #재귀종료\n",
    "```\n",
    "<hr>\n",
    "\n",
    "```python\n",
    "def function(입력):\n",
    "    if 입력 <= 일정값: #입력값이 일정값보다 작으면\n",
    "        return 결과값 # 재귀 종료\n",
    "    function (입력-1) #입력값보다 작은값\n",
    "    return 결과값\n",
    "```"
   ]
  },
  {
   "cell_type": "code",
   "execution_count": 7,
   "metadata": {},
   "outputs": [],
   "source": [
    "def factorial(num):\n",
    "    if num <= 1:\n",
    "        return num\n",
    "    return_value = num * factorial(num-1)\n",
    "    return return_value"
   ]
  },
  {
   "cell_type": "code",
   "execution_count": 8,
   "metadata": {},
   "outputs": [
    {
     "name": "stdout",
     "output_type": "stream",
     "text": [
      "0\n",
      "1\n",
      "2\n",
      "6\n",
      "24\n",
      "120\n",
      "720\n",
      "5040\n",
      "40320\n",
      "362880\n"
     ]
    }
   ],
   "source": [
    "for i in range(10):\n",
    "    print(factorial(i))"
   ]
  },
  {
   "cell_type": "markdown",
   "metadata": {},
   "source": [
    "### 재귀 호출은 스택의 전형적인 예\n",
    "- 함수는 내부적으로 스택처럼 관리된다.\n",
    "> 참고: 파이썬에서는 재귀 깊이가 1000 회 이하 여야한다."
   ]
  },
  {
   "cell_type": "code",
   "execution_count": null,
   "metadata": {},
   "outputs": [],
   "source": []
  }
 ],
 "metadata": {
  "kernelspec": {
   "display_name": "Python 3",
   "language": "python",
   "name": "python3"
  },
  "language_info": {
   "codemirror_mode": {
    "name": "ipython",
    "version": 3
   },
   "file_extension": ".py",
   "mimetype": "text/x-python",
   "name": "python",
   "nbconvert_exporter": "python",
   "pygments_lexer": "ipython3",
   "version": "3.7.4"
  }
 },
 "nbformat": 4,
 "nbformat_minor": 2
}
