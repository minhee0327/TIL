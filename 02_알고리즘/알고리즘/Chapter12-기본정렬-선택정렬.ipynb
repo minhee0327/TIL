{
 "cells": [
  {
   "cell_type": "markdown",
   "metadata": {},
   "source": [
    "## 대표적인 정렬3: 선택정렬(selection sort)"
   ]
  },
  {
   "cell_type": "markdown",
   "metadata": {},
   "source": [
    "### 1. 선택정렬(selection sort)\n",
    "- 다음과 같은 순서를 반복하며 정렬하는 알고리즘\n",
    "    - 주어진 데이터 중 최소값을 찾음\n",
    "    - 해당 최소값을 데이터 맨 앞에 위치한 값과 교체\n",
    "    - 맨 앞의 위치를 뺀 나머지 \n",
    "    \n",
    "- 핵심 코드\n",
    "    ```python\n",
    "    for stand in range(데이터 길이 -1):# 기준값\n",
    "        lowest = stand\n",
    "        for index in range(stand + 1, 데이터길이): # 기준값 이후 ~ 데이터 끝까지 순회\n",
    "            if data[lowest] > data[index]: #최소 값을 가진 index를 찾아가는 과정\n",
    "                lowest = index\n",
    "        SWAP(stand, lowest)\n",
    "    ```"
   ]
  },
  {
   "cell_type": "code",
   "execution_count": 8,
   "metadata": {},
   "outputs": [],
   "source": [
    "def selection_sort(data):\n",
    "    for stand in range(len(data)-1):\n",
    "        lowest = stand\n",
    "        for index in range(stand+1, len(data)):\n",
    "            if data[lowest] > data[index]:\n",
    "                lowest = index\n",
    "        data[stand], data[lowest] = data[lowest], data[stand]\n",
    "        \n",
    "    return data"
   ]
  },
  {
   "cell_type": "code",
   "execution_count": 10,
   "metadata": {},
   "outputs": [
    {
     "name": "stdout",
     "output_type": "stream",
     "text": [
      "[26, 27, 29, 37, 46, 48, 55, 64, 68, 86]\n"
     ]
    }
   ],
   "source": [
    "import random\n",
    "\n",
    "data_list = random.sample(range(100), 10)\n",
    "print(selection_sort(data_list))"
   ]
  },
  {
   "cell_type": "markdown",
   "metadata": {},
   "source": [
    "### 혼자 다시 구현해보기"
   ]
  },
  {
   "cell_type": "code",
   "execution_count": 6,
   "metadata": {},
   "outputs": [],
   "source": [
    "def selection_sort(data):\n",
    "    for i in range(len(data)-1):\n",
    "        lowest = i\n",
    "        for j in range(i, len(data)):\n",
    "            if data[lowest] > data[j]:\n",
    "                lowest = j\n",
    "        data[i], data[lowest] = data[lowest], data[i]\n",
    "    return data"
   ]
  },
  {
   "cell_type": "code",
   "execution_count": 7,
   "metadata": {},
   "outputs": [
    {
     "name": "stdout",
     "output_type": "stream",
     "text": [
      "[0, 1, 4, 6, 10, 11, 12, 13, 14, 15, 18, 20, 21, 22, 24, 27, 29, 32, 33, 34, 35, 36, 37, 38, 39, 40, 45, 48, 50, 53, 58, 63, 68, 69, 70, 71, 73, 77, 81, 82, 85, 86, 87, 90, 91, 94, 95, 97, 98, 99]\n"
     ]
    }
   ],
   "source": [
    "import random\n",
    "\n",
    "data_list = random.sample(range(100),50)\n",
    "print(selection_sort(data_list))"
   ]
  },
  {
   "cell_type": "markdown",
   "metadata": {},
   "source": [
    "### 시간복잡도\n",
    "- 반복문이 두개 O(N²)\n",
    "    - 실제로 상세하게 계산하면, n * (n-1) /2"
   ]
  }
 ],
 "metadata": {
  "kernelspec": {
   "display_name": "Python 3",
   "language": "python",
   "name": "python3"
  },
  "language_info": {
   "codemirror_mode": {
    "name": "ipython",
    "version": 3
   },
   "file_extension": ".py",
   "mimetype": "text/x-python",
   "name": "python",
   "nbconvert_exporter": "python",
   "pygments_lexer": "ipython3",
   "version": "3.7.4"
  }
 },
 "nbformat": 4,
 "nbformat_minor": 2
}
