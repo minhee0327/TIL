{
 "cells": [
  {
   "cell_type": "markdown",
   "metadata": {},
   "source": [
    "### 1. 프림알고리즘\n",
    "- 시작 정점을 선택한 후, 정점에 인접한 간선 중 최소 간선으로 연결된 정점을 선택하고,   \n",
    "    해당 정점에서 다시 최소 간선으로 연결된 정점을 선택하는 방식으로 최소 신장트리를 확장해 나가는 방식\n",
    "- 크루스칼 알고리즘과 비교\n",
    "    - 둘 다 탐욕 알고리즘을 기초로 하고 있음( 당장 눈 앞의 최소 비용을 선택해서, 결과적으로 최적의 솔루션을 찾음)\n",
    "    - 크루스칼 알고리즘은 가장 가중치가 작은 간선부터 선택하면서 MST를 구함\n",
    "    - 프림 알고리즘은 특정 정점에서 시작해서 해당 정점에 연결된 가장 가중치가 작은 간선을 선택,   \n",
    "        간선으로 연결된 정점들에 연결된 간선중에서 가중치가 가장 적은 것을 선택하는 방식으로 MST를 구함"
   ]
  },
  {
   "cell_type": "markdown",
   "metadata": {},
   "source": [
    "### 2. 순서\n",
    "1. 임의의 정점을 선택, '연결된 노드 집합(변수)'에 삽입\n",
    "2. 선택한 정점에 연결된 간선들을 간선 리스트에 삽입\n",
    "3. 간선 리스트에서 최소 가중치를 가지는 간선부터 추출해서,\n",
    "    - 해당 간선에 연결된 인접 정점이 '연결된 노드 집합' 에 이미 들어있다면 스킵함(cycle발생을 막기위함)\n",
    "    - 해당 간선에 연결된 인접 정점이 '연결된 노드집합'에 들어있지 않으면 해당 간선을 선택하고, 해당 간선 정보를 ' 최소 신장 트리'에 삽입\n",
    "4. 추출한 간선은 간선 리스트에 제거\n",
    "5. 간선 리스트에 더이상의 간선이 없을때까지 3번,4번 반복"
   ]
  },
  {
   "cell_type": "markdown",
   "metadata": {},
   "source": [
    "### 3. 프림알고리즘 구현\n",
    "- 참고 : heapq라이브러리 활용을 통해 우선순위 큐 사용하기"
   ]
  },
  {
   "cell_type": "code",
   "execution_count": 3,
   "metadata": {},
   "outputs": [
    {
     "name": "stdout",
     "output_type": "stream",
     "text": [
      "[2, 'A']\n",
      "[3, 'C']\n",
      "[5, 'B']\n",
      "------------\n",
      "[]\n"
     ]
    }
   ],
   "source": [
    "import heapq\n",
    "\n",
    "queue = []\n",
    "graph_data = [[2,'A'], [5, 'B'], [3,'C']]\n",
    "\n",
    "for edge in graph_data:\n",
    "    heapq.heappush(queue, edge)\n",
    "    \n",
    "for index in range(len(queue)):\n",
    "    print(heapq.heappop(queue))\n",
    "\n",
    "print('------------')\n",
    "print(queue)"
   ]
  },
  {
   "cell_type": "markdown",
   "metadata": {},
   "source": [
    "- heapq.heapify()함수를 통해 리스트 데이터를 통해 heap 형태로 한번에 변환할 수 있음(0번 인덱스를 우선순위로 인지)"
   ]
  },
  {
   "cell_type": "code",
   "execution_count": 6,
   "metadata": {},
   "outputs": [
    {
     "name": "stdout",
     "output_type": "stream",
     "text": [
      "[2, 'A']\n",
      "[3, 'C']\n",
      "[5, 'B']\n",
      "------------\n",
      "[]\n"
     ]
    }
   ],
   "source": [
    "import heapq\n",
    "\n",
    "graph_data = [[2,'A'], [5, 'B'], [3,'C']]\n",
    "\n",
    "heapq.heapify(graph_data) # list => heap 구조로 한번에 변환\n",
    "\n",
    "for index in range(len(graph_data)):\n",
    "    print(heapq.heappop(graph_data))\n",
    "\n",
    "print('------------')\n",
    "print(graph_data)"
   ]
  },
  {
   "cell_type": "markdown",
   "metadata": {},
   "source": [
    "### 4. 참고 :collections라이브러리의 defaultdict함수 활용하기\n",
    "- defaultdict 함수를 사용해서 key에 대한 value를 지정하지 않았을 때, 선언만 먼저 해줄수 있음"
   ]
  },
  {
   "cell_type": "code",
   "execution_count": 9,
   "metadata": {},
   "outputs": [
    {
     "name": "stdout",
     "output_type": "stream",
     "text": [
      "[]\n"
     ]
    }
   ],
   "source": [
    "from collections import defaultdict\n",
    "\n",
    "list_dict = defaultdict(list) # list이외에도, int, float, set등으로 초기화가 가능하다.\n",
    "print(list_dict['key1']) # 미리 초기화 하지 않더라도, 초기화 해준다.\n",
    "\n",
    "# list_dict2 = dict()\n",
    "# print(list_dict2['key1']) # 기존 dict는 key에 해당하는 value값이 없다면 error가 난다."
   ]
  },
  {
   "cell_type": "markdown",
   "metadata": {},
   "source": [
    "### 5. 프림알고리즘 파이썬\n",
    "1. 모든 **간선의 정보를 저장 (adjacent_edges)**\n",
    "2. 임의의 정점을 선택하고, **연결된 노드집합(connected_nodes)**에 삽입\n",
    "3. 선택한 정점에 연결된 간선들을 **간선(후보) 리스트(candidated_edge_list)**에 삽입\n",
    "4. **간선(후보) 리스트(candidated_edge_list)**에서 최소 가중치를 가지는 간선부터 추출해서\n",
    "    - 해당 간선에 연결된 인접정점이 **연결된 노드집합(connected_nodes)**에 있다면 스킵(cycle방지)\n",
    "    - 해당 간선에 연결된 인접정점이 **연결된 노드집합(connected_nodes)**에 없다면, 해당 간선을 선택하고 해당 간선 정보를 **최소신장트리(mst)**에 삽입\n",
    "        - 해당 간선에 연결된 인접정점의 간선들 중 '연결된 노드집합(connected_nodes)'에 없는 노드와 연결된 간선들만 간선리스트(candidate_edge_list)에 삽입\n",
    "            - '연결된 노드집합(connected_nodes)'에 있는 노드와 연결된 간선들을 간선 리스트에 삽입해도, 해당 간선은 스킵될 것이기 때문\n",
    "            - 어차피 스킵될 간선을 '간선리스트(candidate_edge_list)'에 넣지 않음으로 해서, \n",
    "                '간선리스트(candidate_edge_list)'에서 최소 가중치를 가지는 간선부터 추출하기 위한 자료구조 유지를 위한 effort를 줄일 수 있음(예: 최소 힙 구조사용)\n",
    "5, 선택된 간선은 간선리스트에서 제거\n",
    "6. 간선 리스트에 더 이상의 간선이 없을 때까지 3~4번 반복"
   ]
  },
  {
   "cell_type": "code",
   "execution_count": 11,
   "metadata": {},
   "outputs": [],
   "source": [
    "edges = [\n",
    "    (7,'A','B'),\n",
    "    (5,'A','D'),\n",
    "    (9,'B','D'),\n",
    "    (8,'B','C'),\n",
    "    (7,'B','E'),\n",
    "    (5,'C','E'),\n",
    "    (7,'D','E'),\n",
    "    (6,'D','F'),\n",
    "    (8,'E','F'),\n",
    "    (9,'E','G'),\n",
    "    (11,'F','G')\n",
    "]"
   ]
  },
  {
   "cell_type": "code",
   "execution_count": 21,
   "metadata": {},
   "outputs": [],
   "source": [
    "from heapq import*\n",
    "from collections import defaultdict\n",
    "\n",
    "def prim(start_node, edges):\n",
    "     # 간선 리스트 정보 저장할 것 초기화\n",
    "    adjacent_edges = defaultdict(list)\n",
    "    \n",
    "    # 1. 모든 간선리스트 저장 _ n1(node1) n2 (node2)\n",
    "    for weight, n1, n2 in edges: \n",
    "        adjacent_edges[n1].append((weight, n1, n2))\n",
    "        adjacent_edges[n2].append((weight, n2, n1))\n",
    "        \n",
    "    #print(adjacent_edges)\n",
    "    \n",
    "    # 2.임의의 정점을 선택, 연결된 노드 집합에 삽입\n",
    "    connected_nodes = set(start_node)\n",
    "    \n",
    "    # 3. 선택된 정점에서 연결된 간선들을 간선리스트에 삽입 (우선순위큐)\n",
    "    candidated_edge_list = adjacent_edges[start_node]\n",
    "    heapify(candidated_edge_list)\n",
    "    mst = list()\n",
    "    \n",
    "    #4. 간선 리스트에서 최소 가중치를 가지는 간선부터 추출해서  위에서 정리한대로 구현\n",
    "    while candidated_edge_list:\n",
    "        weight, n1, n2 = heappop(candidated_edge_list)\n",
    "        # 4-1. 연결된 노드 집합에 n2가 없을 경우에만, 새로 집합에 넣고, mst 업데이트\n",
    "        if n2 not in connected_nodes:\n",
    "            connected_nodes.add(n2)\n",
    "            mst.append((weight, n1, n2))\n",
    "            # 4-1-1. 간선리스트의 node2값이 연결된 노드 집합에 없을 경우에만 push해줌.\n",
    "            for edge in adjacent_edges[n2]:\n",
    "                if edge[2] not in connected_nodes:\n",
    "                    heappush(candidated_edge_list, edge)\n",
    "                \n",
    "    return mst       \n",
    "    "
   ]
  },
  {
   "cell_type": "code",
   "execution_count": 16,
   "metadata": {},
   "outputs": [
    {
     "name": "stdout",
     "output_type": "stream",
     "text": [
      "defaultdict(<class 'list'>, {'A': [(7, 'A', 'B'), (5, 'A', 'D')], 'B': [(7, 'B', 'A'), (9, 'B', 'D'), (8, 'B', 'C'), (7, 'B', 'E')], 'D': [(5, 'D', 'A'), (9, 'D', 'B'), (7, 'D', 'E'), (6, 'D', 'F')], 'C': [(8, 'C', 'B'), (5, 'C', 'E')], 'E': [(7, 'E', 'B'), (5, 'E', 'C'), (7, 'E', 'D'), (8, 'E', 'F'), (9, 'E', 'G')], 'F': [(6, 'F', 'D'), (8, 'F', 'E'), (11, 'F', 'G')], 'G': [(9, 'G', 'E'), (11, 'G', 'F')]})\n"
     ]
    }
   ],
   "source": [
    "# adjacent_edges 출력한 결과"
   ]
  },
  {
   "cell_type": "code",
   "execution_count": 23,
   "metadata": {},
   "outputs": [
    {
     "data": {
      "text/plain": [
       "[(5, 'A', 'D'),\n",
       " (6, 'D', 'F'),\n",
       " (7, 'A', 'B'),\n",
       " (7, 'B', 'E'),\n",
       " (5, 'E', 'C'),\n",
       " (9, 'E', 'G')]"
      ]
     },
     "execution_count": 23,
     "metadata": {},
     "output_type": "execute_result"
    }
   ],
   "source": [
    "prim('A', edges)"
   ]
  },
  {
   "cell_type": "markdown",
   "metadata": {},
   "source": [
    "### 6. 시간복잡도\n",
    "- 최악의 경우, while 구문에서 모든 간선(E)에 대해 반복하고, 최소 힙 구조(logE)를 사용하므로\n",
    "- log(ElogE)"
   ]
  }
 ],
 "metadata": {
  "kernelspec": {
   "display_name": "Python 3",
   "language": "python",
   "name": "python3"
  },
  "language_info": {
   "codemirror_mode": {
    "name": "ipython",
    "version": 3
   },
   "file_extension": ".py",
   "mimetype": "text/x-python",
   "name": "python",
   "nbconvert_exporter": "python",
   "pygments_lexer": "ipython3",
   "version": "3.7.4"
  }
 },
 "nbformat": 4,
 "nbformat_minor": 2
}
