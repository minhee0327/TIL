{
 "cells": [
  {
   "cell_type": "markdown",
   "metadata": {},
   "source": [
    "### 1. 최단경로 문제란?\n",
    "- 두 노드를 잇는 가장 짧은 경로를 찾는 문제\n",
    "- 가중치 그래프에서 간선(Edge)의 가중치 합이 최소가 되도록 하는 경로를 찾는 것이 목적"
   ]
  },
  {
   "cell_type": "markdown",
   "metadata": {},
   "source": [
    "### 2. 최단경로 문제 종류\n",
    "1. 단일 출발 및 단일 도착 최단경로문제\n",
    "    - 그래프 내의 특정 노드 u에서 출발, 또 다른 특정 노드 v에 도착하는 가장 짧은 경로를 찾는 문제\n",
    "2. 단일 출발 최단경로문제 (다익스트라 알고리즘)\n",
    "    - 그래프 내의 특정노드 u와 그래프 내 다른 모든 노드 각각의 가장 짧은 경로를 찾는 문제\n",
    "3. 전체 쌍 최단경로: 그래프 내의 모든 노드 쌍(u,v)에 대한 최단 경로를 찾는 문제"
   ]
  },
  {
   "cell_type": "markdown",
   "metadata": {},
   "source": [
    "### 3. 다익스트라 알고리즘 개요\n",
    "- 첫 정점을 기준으로 연결된 정점들을 추가해 가며, 최단거리 갱신\n",
    "- 너비우선탐색(BFS)와 유사\n",
    "    - 첫 정점부터 각 노드간의 거리를 저장하는 배열을 만들고\n",
    "    - 첫 정점의 인접노드간의 거리부터 먼저 계산하면서 \n",
    "    - 첫 정점부터 해당 노드간의 가장 짧은 거리를 해당 배열에 업데이트\n",
    "    > 우선순위 큐를 사용하는 방식\n",
    "- 우선순위큐를 활용한 다익스트라 알고리즘\n",
    "    - MinHeap 방식 활용해서, 현재 가장짧은 거리를 가진 노드 정보를 먼저 꺼내게 됨\n",
    "\n",
    "1) 첫 정점을 기준으로 배열을 선언하며 첫 정점에서 각 정점까지의 거리를 저장\n",
    "    - 초기에는 첫 정점의 거리 0, 나머지는 무한대로 저장(inf라고 표현)\n",
    "    - 우선순위 큐에(첫정점, 거리0)만 먼저 넣음\n",
    "2) 우선순위 큐에서 노드를 꺼냄\n",
    "    - 처음에는 첫 정점만 가지고 있으므로 첫 정점 꺼내짐\n",
    "    - 첫 정점에 인접한 노드들 각각에 대해, 첫 정점에서 각 노드로 가는 거리와 현재 배열에 저장되어 있는 첫 정점에서 각 정점까지의 거리를 비교\n",
    "    - 배열에 저장되어있는 거리보다, 첫 정점에서 해당노드로 가는 거리가 더 짧을 경우, 배열에 해당노드의 거리를 업데이트\n",
    "    - 배열에 해당노드의 거리가 업뎃 된 경우, 우선순위 큐에 넣는다.\n",
    "        - 결과적으로 bfs와 유사하게, 첫 정점에 인접한 노드들을 순차적으로 방문하게 됨\n",
    "        - 만약 배열에 기록된 현재까지 발견된 가장 짧은 거리보다, 더 긴 거리(루트)를 가진 (노드,거리)의 경우에는 해당노드와 인접한 노드간의 거리 계산을 하지 않음\n",
    "    \n",
    "3) 2번의 과정을 우선순위 큐에 꺼낼 노드가 없을때까지 반복\n",
    "    "
   ]
  },
  {
   "cell_type": "markdown",
   "metadata": {},
   "source": [
    "### 4. 다익스트라 알고리즘 구현"
   ]
  },
  {
   "cell_type": "code",
   "execution_count": 5,
   "metadata": {},
   "outputs": [
    {
     "name": "stdout",
     "output_type": "stream",
     "text": [
      "[[1, 'C'], [5, 'B'], [2, 'A'], [7, 'D']]\n",
      "[1, 'C']\n",
      "[2, 'A']\n",
      "[5, 'B']\n",
      "[7, 'D']\n"
     ]
    }
   ],
   "source": [
    "import heapq\n",
    "\n",
    "queue = []\n",
    "heapq.heappush(queue, [2,'A'])\n",
    "heapq.heappush(queue, [5,'B'])\n",
    "heapq.heappush(queue, [1,'C'])\n",
    "heapq.heappush(queue, [7,'D'])\n",
    "\n",
    "print(queue)\n",
    "\n",
    "for index in range(len(queue)):\n",
    "    print(heapq.heappop(queue))"
   ]
  },
  {
   "cell_type": "code",
   "execution_count": 6,
   "metadata": {},
   "outputs": [],
   "source": [
    "mygraph = {\n",
    "    'A':{'B':8, 'C':1, 'D':2},\n",
    "    'B':{},\n",
    "    'C':{'B':5, 'D':2},\n",
    "    'D':{'E':3,'F':5},\n",
    "    'E':{'F':1},\n",
    "    'F':{'A':5}\n",
    "}"
   ]
  },
  {
   "cell_type": "code",
   "execution_count": 7,
   "metadata": {},
   "outputs": [],
   "source": [
    "import heapq\n",
    "\n",
    "def dijkstra(graph, start):\n",
    "    distances = {node:float('inf') for node in graph}\n",
    "    distances[start] = 0\n",
    "    queue = []\n",
    "    heapq.heappush(queue, [distances[start], start])\n",
    "    \n",
    "    while queue:\n",
    "        current_distance, current_node = heapq.heappop(queue)\n",
    "        \n",
    "        if distances[current_node]< current_distance:\n",
    "            continue\n",
    "        \n",
    "        for adjacent, weight in graph[current_node].items():\n",
    "            distance = current_distance + weight\n",
    "            \n",
    "            if distance <distances[adjacent]:\n",
    "                distances[adjacent] = distance\n",
    "                heapq.heappush(queue, [distance, adjacent])\n",
    "                \n",
    "    return distances\n",
    "    "
   ]
  },
  {
   "cell_type": "code",
   "execution_count": 8,
   "metadata": {},
   "outputs": [
    {
     "data": {
      "text/plain": [
       "{'A': 0, 'B': 6, 'C': 1, 'D': 2, 'E': 5, 'F': 6}"
      ]
     },
     "execution_count": 8,
     "metadata": {},
     "output_type": "execute_result"
    }
   ],
   "source": [
    "dijkstra(mygraph, 'A')"
   ]
  },
  {
   "cell_type": "markdown",
   "metadata": {},
   "source": [
    "### 5. 시간복잡도\n",
    "- 크게 2가지 과정\n",
    "    - 각 노드마다 인접한 간선을 모두 검사\n",
    "    - 우선순위 큐에 노드/거리 정보를 넣고 삭제(pop)하는 과정\n",
    "- 각 과정별 시간 복잡도\n",
    "    - 과정1: 각 노드는 최대 한번씩 방문하므로 그래프의 모든 간선은 최대 한번씩 검사\n",
    "        - O(E)\n",
    "    - 과정2: \n",
    "        - 우선순위 큐에 가장 많은 노드, 거리 정보가 들어가는 시나리오는 그래프의 모든 간선이 검사될 때마다,  \n",
    "            배열의 최단 거리가 갱신되고, 우선순위 큐에 노드/거리가 추가되는 것\n",
    "        - 각 간선마다 최대 한번 일어날 수 있으므로, 최대 O(E)의 시간이 걸리고, O(E)개의 노드/거리 정보에 대해 우선순위 큐를 유지하는 작업은 O(logE)\n",
    "            - 따라서 해당 과정의 시간복잡도는 O(ElogE)\n",
    "        \n",
    "- 총 시간복잡도\n",
    "    - O(E) + O(ElogE) => O(ElogE) [상대적으로 작은 값은 무시됨]"
   ]
  }
 ],
 "metadata": {
  "kernelspec": {
   "display_name": "Python 3",
   "language": "python",
   "name": "python3"
  },
  "language_info": {
   "codemirror_mode": {
    "name": "ipython",
    "version": 3
   },
   "file_extension": ".py",
   "mimetype": "text/x-python",
   "name": "python",
   "nbconvert_exporter": "python",
   "pygments_lexer": "ipython3",
   "version": "3.7.4"
  }
 },
 "nbformat": 4,
 "nbformat_minor": 2
}
