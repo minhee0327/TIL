{
 "cells": [
  {
   "cell_type": "markdown",
   "metadata": {},
   "source": [
    "## 대표적인 데이터 구조 : 힙\n",
    "### 1. 힙(Heap)이란\n",
    "- 힙: 데이터에서 최대값과 최소값을 빠르게 찾기 위해 고안된 완전 이진트리(Complete Binary Tree)\n",
    "    - 완전 이진 트리: 노드를 삽입할 때, 최하단 왼쪽 노드부터 차례대로 삽입하는 트리\n",
    "- 힙을 사용하는 이유\n",
    "    - 배열에 데이터를 넣고, 최대값과 최소값을 찾으려면 O(N) 이 걸림\n",
    "    - 이에 반해, 힙에 데이터를 넣고, 최대값과 최소값을 찾으면, O(logN)이 걸림\n",
    "    - 우선순위 큐와 같이 최대값 또는 최소값을 빠르게 찾아야 하는 자료구조 및 알고리즘 구현 등에 활용됨"
   ]
  },
  {
   "cell_type": "markdown",
   "metadata": {},
   "source": [
    "### 2. 힙(Heap) 구조\n",
    "- 힙은 최대값을 구하기 위한 구조(최대 힙, Max Heap)와, 최소값을 구하기 위한 구조(최소힙, Min Heap)으로 분류할 수 있음.\n",
    "- 힙은 다음과 같이 두 가지 조건을 가지고 있는 자료구조임\n",
    "    1. 각 노드의 값은 해당 노드의 자식 노드가 가진 값보다 크거나 같다.(최대 힙의 경우)\n",
    "        - 최소 힙의 경우는 각 노드의 값은 해당 노드의 자식 노드가 가진 값보다 작거나 같음\n",
    "    2. 완전 이진트리 형태를 가짐\n",
    "        - 삽입할 노드가 기본적으로 왼쪽 최하단부 노드부터 채워지는 형태로 삽입"
   ]
  },
  {
   "cell_type": "markdown",
   "metadata": {},
   "source": [
    "### 힙과 이진탐색트리의 공통점과 차이점\n",
    "- 공통점: 힙과 이진탐색트리는 모두 이진트리임.\n",
    "- 차이점:\n",
    "    - 힙은 각 노드의 값이 자식 노드 보다 크거나 같음(Max Heap의 경우)\n",
    "    - 이진 탐색트리는 왼쪽 자식 노드의 값이 가장 작고, 그 다음 부모노드, 그다음 오른쪽 자식 노드 값이 가장 큼.\n",
    "    - 힙은 이진 탐색 트리의 조건인 자식 노드에서 작은 값은 왼쪽, 큰 값은 오른쪽이라는 조건은 없음\n",
    "        - 힙의 왼쪽 및 오른쪽 자식 노드의 값은 오른쪽이 클수도 있고, 왼쪽이 클 수도 있음.\n",
    "- 이진탐색트리는 탐색을 위한 구조, 힙은 최대/최소값 검색을 위한 구조 중 하나로 이해하면 됨."
   ]
  },
  {
   "cell_type": "markdown",
   "metadata": {},
   "source": [
    "### 3. 힙 동작\n",
    "### 힙에 데이터 삽입하기 - 기본 동작\n",
    "    - 힙은 완전 이진 트리이므로, 삽입할 노드는 기본적으로 왼쪽 최하단부 노드부터 채워지는 형태로 삽입"
   ]
  },
  {
   "cell_type": "markdown",
   "metadata": {},
   "source": [
    "### 힙에 데이터 삽입하기 - 삽입할 데이터가 힙의 데이터보다 클 경우(Max Heap의 예)\n",
    "- 먼저 삽입된 데이터는 완전 이진 트리 구조에 맞추어, 최하단부 왼쪽 노드부터 채워짐\n",
    "- 채워진 노드위치에서, 부모노드보다 값이 클 경우, 부모 노드와 위치를 바꿔주는 작업을 반복함(SWAP)"
   ]
  },
  {
   "cell_type": "markdown",
   "metadata": {},
   "source": [
    "### 힙에 데이터 삭제하기 (Max Heap의 예)\n",
    "- 보통 삭제는 최상단 노드(root 노드)를 삭제하는 것이 일반적임\n",
    "    - 힙의 용도는 최대값 또는 최소값을 root노드에 놓아서, 최대값과 최소값을 바로 꺼내 쓸 수 있도록 하는 것임.\n",
    "- 상단의 데이터 삭제시, 가장 최하단부 왼쪽에 위치한 노드(일반적으로 가장 마지막에 추가한 노드)를 root노드로 이동\n",
    "- root노드의 값이 child node보다 작을 경우, root노드의 child node중 가장 큰 값을 가진 노드와 root노드 위치를 바꿔주는 작업을 반복함(SWAP)"
   ]
  },
  {
   "cell_type": "markdown",
   "metadata": {},
   "source": [
    "### 4. 힙 구현\n",
    "### 힙과 배열\n",
    "- (완전 이진 트리의 형태를 띄기 때문에)\n",
    "- 일반적으로 힙 구현시 배열 자료구조를 활용함\n",
    "- 배열은 인덱스가 0번부터 시작하지만 힙구현의 편의를 위해 root 노드 인덱스 번호를 1로 지정하면, 구현이 좀 더 수월함\n",
    "    - 부모 노드 인덱스 번호(parent node's index) = 자식 노드 인덱스 번호 //2\n",
    "    - 왼쪽 자식 노드 인덱스 번호(left child node's index) = 부모 노드 인덱스 번호(parent node's index) * 2\n",
    "    - 오른쪽 자식 노드 인덱스 번호(right child node's index) = 부모 노드 인덱스 번호(parent node's index) * 2 + 1 "
   ]
  },
  {
   "cell_type": "markdown",
   "metadata": {},
   "source": [
    "### 힙에 데이터 삽입 구현(Max Heap 의 예)\n",
    "- 힙 클래스 구현1"
   ]
  },
  {
   "cell_type": "code",
   "execution_count": 1,
   "metadata": {},
   "outputs": [],
   "source": [
    "class Heap:\n",
    "    def __init__(self, data):\n",
    "        self.heap_array = list()\n",
    "        self.heap_array.append(None)\n",
    "        self.heap_array.append(data)"
   ]
  },
  {
   "cell_type": "code",
   "execution_count": 2,
   "metadata": {},
   "outputs": [
    {
     "data": {
      "text/plain": [
       "[None, 1]"
      ]
     },
     "execution_count": 2,
     "metadata": {},
     "output_type": "execute_result"
    }
   ],
   "source": [
    "heap = Heap(1)\n",
    "heap.heap_array"
   ]
  },
  {
   "cell_type": "markdown",
   "metadata": {},
   "source": [
    "- 힙 클래스 구현2 - insert1\n",
    "    - 인덱스 번호는 1번 부터 시작하도록 변경"
   ]
  },
  {
   "cell_type": "code",
   "execution_count": null,
   "metadata": {},
   "outputs": [],
   "source": [
    "class Heap:\n",
    "    def __init__(self, data):\n",
    "        self.heap_array = list()\n",
    "        self.heap_array.append(None)\n",
    "        self.heap_array.append(data)\n",
    "        \n",
    "    def insert(self, data):\n",
    "        if len(self.hea_array) == 0:\n",
    "            self.heap_array.append(None)\n",
    "            self.heap_array.append(data)\n",
    "            return True\n",
    "        \n",
    "        self.heap_array.append(data)\n",
    "        return True"
   ]
  },
  {
   "cell_type": "markdown",
   "metadata": {},
   "source": [
    "- 힙 클래스 구현3 - insert2\n",
    "    - 삽입한 노드가 부모 노드의 값보다 클 경우, 부모노드와 삽입한 노드의 위치를 바꿈(SWAP)\n",
    "    - 삽입한 노드가 루트 노드가 되거나, 부모노드보다 값이 작거나 같은 경우까지 반복"
   ]
  },
  {
   "cell_type": "code",
   "execution_count": 3,
   "metadata": {},
   "outputs": [],
   "source": [
    "class Heap:\n",
    "    def __init__(self, data):\n",
    "        self.heap_array = list()\n",
    "        self.heap_array.append(None)\n",
    "        self.heap_array.append(data)\n",
    "    \n",
    "    # 상위 노드와 바꿔야하는지를 확인하는 method\n",
    "    def move_up(self, inserted_idx):\n",
    "        # root 노드일 경우\n",
    "        if inserted_idx <=1:\n",
    "            return False\n",
    "        \n",
    "        parent_idx = inserted_idx //2\n",
    "        if self.heap_array[inserted_idx] > self.heap_array[parent_idx]:\n",
    "            return True\n",
    "        else:\n",
    "            return False\n",
    "            \n",
    "    def insert(self, data):\n",
    "        #heap_array가 비워져있을 경우 초기화하고 종료\n",
    "        if len(self.heap_array) == 0:\n",
    "            self.heap_array.append(None)\n",
    "            self.heap_array.append(data)\n",
    "            return True\n",
    "        \n",
    "        # 그게 아니라면, 기존 heap_array에 data를 이진트리 형태로 붙여나감.\n",
    "        self.heap_array.append(data)\n",
    "        \n",
    "        # 넣고자 하는 위치는 총 길이 - 1\n",
    "        #index가 1부터 시작하도록 하도록,  0에 None을 넣었기 때문에  -1을 함.\n",
    "        inserted_idx = len(self.heap_array) - 1 \n",
    "        \n",
    "        while self.move_up(inserted_idx):\n",
    "            # true라면 (부모와 넣고자하던 데이터 위치) SWAP (파이선 tuple이용하여 아래와 같이 구현 가능!)\n",
    "            parent_idx = inserted_idx // 2 \n",
    "            self.heap_array[inserted_idx] , self.heap_array[parent_idx] =  self.heap_array[parent_idx] , self.heap_array[inserted_idx] \n",
    "            inserted_idx = parent_idx\n",
    "            \n",
    "        return True"
   ]
  },
  {
   "cell_type": "code",
   "execution_count": 4,
   "metadata": {},
   "outputs": [
    {
     "data": {
      "text/plain": [
       "[None, 20, 10, 15, 5, 4, 8]"
      ]
     },
     "execution_count": 4,
     "metadata": {},
     "output_type": "execute_result"
    }
   ],
   "source": [
    "heap  = Heap(15)\n",
    "heap.insert(10)\n",
    "heap.insert(8)\n",
    "heap.insert(5)\n",
    "heap.insert(4)\n",
    "heap.insert(20)\n",
    "heap.heap_array"
   ]
  },
  {
   "cell_type": "markdown",
   "metadata": {},
   "source": [
    "### 힙 데이터 삭제 구현(Max Heap 예)\n",
    "- 힙 클래스 구현 4 - delete1\n",
    "- 보통 삭제는 최상단 노드 (root 노드)를 삭제하는 것이 일반적임\n",
    "    - 힙의 용도는 최대값 또는 최소값을 root 노드에 놓아서, 최대값과 최소값을 꺼내 쓸 수 있도록 하는 것임."
   ]
  },
  {
   "cell_type": "code",
   "execution_count": 5,
   "metadata": {},
   "outputs": [],
   "source": [
    "class Heap:\n",
    "    def __init__(self, data):\n",
    "        self.heap_array = list()\n",
    "        self.heap_array.append(None)\n",
    "        self.heap_array.append(data)\n",
    "        \n",
    "    def pop(self, data):\n",
    "        if len(self.heap_array) <=1:\n",
    "            return None\n",
    "        \n",
    "        # root data 는 index 가 1\n",
    "        returned_data = self.heap_array[1]\n",
    "        return returned_data"
   ]
  },
  {
   "cell_type": "markdown",
   "metadata": {},
   "source": [
    "- 힙 클래스 구현 4 - delete2\n",
    "    - 상단의 데이터 삭제시, 가장 최하단부 왼쪽에 위치한 노드(일반적으로 가장 마지막에 추가한 노드)를 root 노드로 이동\n",
    "    - root 노드의 값이 child node보다 작을 경우, root 노드의 child node중 가장 큰 값을 가진 노드와 root 노드 위치를 바꿔주는 작업을 반복함."
   ]
  },
  {
   "cell_type": "code",
   "execution_count": 32,
   "metadata": {},
   "outputs": [],
   "source": [
    "class Heap:\n",
    "    def __init__(self, data):\n",
    "        self.heap_array = list()\n",
    "        self.heap_array.append(None)\n",
    "        self.heap_array.append(data)\n",
    "    \n",
    "    def move_down(self, poped_idx):\n",
    "        left_child_poped_idx = poped_idx * 2\n",
    "        right_child_poped_idx = poped_idx *2 +1\n",
    "        # case1 왼쪽 자식 노드가 없을 경우 SWAP 필요 없음\n",
    "        if left_child_poped_idx >= len(self.heap_array):\n",
    "            return False\n",
    "        # case2 왼쪽 자식은 있고, 오른쪽 자식은 없을 경우 \n",
    "        # 현재 값과, 왼쪽 자식값을 비교해서 왼쪽 자식 값이 클 경우에 True를 반환해서, SWAP해줄 것 \n",
    "        elif  right_child_poped_idx >= len(self.heap_array):\n",
    "            if self.heap_array[poped_idx] < self.heap_array[left_child_poped_idx]:\n",
    "                return True\n",
    "            else:\n",
    "                return False\n",
    "        # case3-1 왼쪽, 오른쪽 자식  모두 있을 경우, 두 자식 노드 중 큰 값을 찾고\n",
    "        # case3-2 그 큰 값을 부모와 비교해서 변화 할지 여부 결정\n",
    "        else:\n",
    "            if self.heap_array[left_child_poped_idx] > self.heap_array[right_child_poped_idx]:\n",
    "                if self.heap_array[poped_idx] < self.heap_array[left_child_poped_idx]:\n",
    "                    return True\n",
    "                else:\n",
    "                    return False\n",
    "            else:\n",
    "                if self.heap_array[poped_idx] < self.heap_array[right_child_poped_idx]:\n",
    "                    return True\n",
    "                else:\n",
    "                    return False\n",
    "\n",
    "                \n",
    "    def pop(self):\n",
    "        if len(self.heap_array) <=1:\n",
    "            return None\n",
    "        \n",
    "        # root data 는 index 가 1\n",
    "        returned_data = self.heap_array[1]\n",
    "        # 맨마지막 데이터를 root로 이동\n",
    "        self.heap_array[1] = self.heap_array[-1]\n",
    "        del self.heap_array[-1]\n",
    "        \n",
    "        poped_idx = 1\n",
    "        while self.move_down(poped_idx):\n",
    "            left_child_poped_idx = poped_idx * 2\n",
    "            right_child_poped_idx = poped_idx *2 +1\n",
    "            \n",
    "            #case2\n",
    "            if  right_child_poped_idx >= len(self.heap_array):\n",
    "                if self.heap_array[poped_idx] < self.heap_array[left_child_poped_idx]:\n",
    "                    self.heap_array[poped_idx] , self.heap_array[left_child_poped_idx] = self.heap_array[left_child_poped_idx], self.heap_array[poped_idx]\n",
    "                    poped_idx = left_child_poped_idx\n",
    "            \n",
    "            #case3\n",
    "            else:\n",
    "                if self.heap_array[left_child_poped_idx] > self.heap_array[right_child_poped_idx]:\n",
    "                    if self.heap_array[poped_idx] < self.heap_array[left_child_poped_idx]:\n",
    "                        self.heap_array[poped_idx], self.heap_array[left_child_poped_idx] = self.heap_array[left_child_poped_idx],self.heap_array[poped_idx]\n",
    "                        poped_idx = left_child_poped_idx\n",
    "                 \n",
    "                else:\n",
    "                     if self.heap_array[poped_idx] < self.heap_array[right_child_poped_idx]:\n",
    "                            self.heap_array[poped_idx] , self.heap_array[right_child_poped_idx] = self.heap_array[right_child_poped_idx], self.heap_array[poped_idx]\n",
    "                            poped_idx = right_child_poped_idx\n",
    "                            \n",
    "        return returned_data\n",
    "    \n",
    "    def move_up(self, inserted_idx):\n",
    "        if inserted_idx <=1:\n",
    "            return False\n",
    "        \n",
    "        parent_idx = inserted_idx //2\n",
    "        if self.heap_array[inserted_idx] > self.heap_array[parent_idx]:\n",
    "            return True\n",
    "        else:\n",
    "            return False\n",
    "            \n",
    "    def insert(self, data):\n",
    "        if len(self.heap_array) == 0:\n",
    "            self.heap_array.append(None)\n",
    "            self.heap_array.append(data)\n",
    "            return True\n",
    "        \n",
    "        self.heap_array.append(data)\n",
    "        \n",
    "        inserted_idx = len(self.heap_array) - 1 \n",
    "        \n",
    "        while self.move_up(inserted_idx):\n",
    "            parent_idx = inserted_idx // 2 \n",
    "            self.heap_array[inserted_idx] , self.heap_array[parent_idx] =  self.heap_array[parent_idx] , self.heap_array[inserted_idx] \n",
    "            inserted_idx = parent_idx\n",
    "            \n",
    "        return True"
   ]
  },
  {
   "cell_type": "code",
   "execution_count": 33,
   "metadata": {},
   "outputs": [
    {
     "data": {
      "text/plain": [
       "[None, 20, 10, 15, 5, 4, 8]"
      ]
     },
     "execution_count": 33,
     "metadata": {},
     "output_type": "execute_result"
    }
   ],
   "source": [
    "heap = Heap(15)\n",
    "heap.insert(10)\n",
    "heap.insert(8)\n",
    "heap.insert(5)\n",
    "heap.insert(4)\n",
    "heap.insert(20)\n",
    "heap.heap_array"
   ]
  },
  {
   "cell_type": "code",
   "execution_count": 34,
   "metadata": {},
   "outputs": [
    {
     "data": {
      "text/plain": [
       "20"
      ]
     },
     "execution_count": 34,
     "metadata": {},
     "output_type": "execute_result"
    }
   ],
   "source": [
    "heap.pop()"
   ]
  },
  {
   "cell_type": "code",
   "execution_count": 36,
   "metadata": {},
   "outputs": [
    {
     "data": {
      "text/plain": [
       "[None, 15, 10, 8, 5, 4]"
      ]
     },
     "execution_count": 36,
     "metadata": {},
     "output_type": "execute_result"
    }
   ],
   "source": [
    "heap.heap_array"
   ]
  },
  {
   "cell_type": "code",
   "execution_count": 38,
   "metadata": {},
   "outputs": [
    {
     "data": {
      "text/plain": [
       "15"
      ]
     },
     "execution_count": 38,
     "metadata": {},
     "output_type": "execute_result"
    }
   ],
   "source": [
    "heap.pop()"
   ]
  },
  {
   "cell_type": "code",
   "execution_count": 39,
   "metadata": {},
   "outputs": [
    {
     "data": {
      "text/plain": [
       "[None, 10, 5, 8, 4]"
      ]
     },
     "execution_count": 39,
     "metadata": {},
     "output_type": "execute_result"
    }
   ],
   "source": [
    "heap.heap_array"
   ]
  },
  {
   "cell_type": "markdown",
   "metadata": {},
   "source": [
    "### 5. 힙(Heap)의 시간 복잡도\n",
    "- depth(트리의 높이)를 h라고 표기한다면,\n",
    "- n개의 노드를 가진 heap에  데이터 삽입 또는 삭제시, 최악의 경우 root 노드에서 elaf 노드까지 비교해야 하므로 h = log₂n에 가까우므로, 시간 복잡도는 O(logn)\n",
    "    - 참고: 빅오 표기법에서 logn에서의 log의 밑은 10이아니라, 2dlqslek.\n",
    "    - 한번 실행시마다, 50%의 실행할 수도 있는 명령을 제거한다는 의미. 즉, 50% 의 실행시간을 단축시킬 수 있다는 것을 의미함."
   ]
  }
 ],
 "metadata": {
  "kernelspec": {
   "display_name": "Python 3",
   "language": "python",
   "name": "python3"
  },
  "language_info": {
   "codemirror_mode": {
    "name": "ipython",
    "version": 3
   },
   "file_extension": ".py",
   "mimetype": "text/x-python",
   "name": "python",
   "nbconvert_exporter": "python",
   "pygments_lexer": "ipython3",
   "version": "3.7.4"
  }
 },
 "nbformat": 4,
 "nbformat_minor": 2
}
