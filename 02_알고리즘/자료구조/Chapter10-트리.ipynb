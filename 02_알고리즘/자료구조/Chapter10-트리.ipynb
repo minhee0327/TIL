{
 "cells": [
  {
   "cell_type": "markdown",
   "metadata": {},
   "source": [
    "## 대표적인 데이터 구조7: 트리\n",
    "### 1. 트리(Tree) 구조\n",
    "- 트리: Node 와 Branch를 이용해서, 사이클을 이루지 않도록 구성한 데이터 구조\n",
    "- 실제로 어디에 많이 사용되나?\n",
    "    - 트리 중 이진트리(Binary Tree) 형태의 구조로, 탐색(검색) 알고리즘 구현을 위해 많이 사용됨.\n",
    "    \n",
    "### 2. 알아둘 용어\n",
    "- Node: 트리에서 데이터를 저장하는 기본 요소(데이터와 다른 연결된 노드에 대한 Branch 정보 포함)\n",
    "- Root Node: 트리 맨 위에 있는 노드\n",
    "- Level: 최상위 노드를 Level 0 으로 하였을 때, 하위 Branch 로 연결된 노드의 깊이를 나타냄.\n",
    "- Parent Node: 어떤 노드의 다음 레벨에 연결된 노드\n",
    "- Child Node: 어떤 노드의 상위 레벨에 연결된 노드\n",
    "- Leaf Node(Terminal Node): Child Node가 하나도 없는 노드\n",
    "- Slibling (Brother Node): 동일한 Parent Node를 가진 노드\n",
    "- Depth: 트리에서 Node가 가질수 있는 최대 Level\n",
    "\n",
    "### 3. 이진 트리와 이진 탐색 트리( Binary Search Tree)\n",
    "- 이진트리: 노드의 최대 Branch 가 2개인 트리\n",
    "- 이진탐색트리(Binary Search Tree) : 이진트리에 다음과 같은 추가적인 조건이 있는 트리\n",
    "    - 왼쪽노드는 해당노드보다 작은 값, 오른쪽 노드는 해당 노드보다 큰 값을 가지고 있음!\n",
    "    \n",
    "### 4. 자료구조 이진탐색트리의 장점과 주요용도\n",
    "- 주요 용도: 데이터 검색( 탐색)\n",
    "- 장점: 탐색 속도를 개선할 수 있음.\n",
    "> 단점은 이진탐색 트리 알고리즘 이해 후 살펴 볼것~\n",
    "\n",
    "### 5. 파이선 객체 지향 프로그래밍으로 링크드 리스트 구현하기"
   ]
  },
  {
   "cell_type": "markdown",
   "metadata": {},
   "source": [
    "#### 5.1 노드 클래스 만들기"
   ]
  },
  {
   "cell_type": "code",
   "execution_count": 1,
   "metadata": {},
   "outputs": [],
   "source": [
    "class Node:\n",
    "    def __init__(self, value):\n",
    "        self.value = value\n",
    "        self.left = None\n",
    "        self.right = None"
   ]
  },
  {
   "cell_type": "markdown",
   "metadata": {},
   "source": [
    "#### 5.2 이진탐색트리에 데이터 넣기\n",
    "- 이진 탐색 트리 조건에 부합하게 데이터 넣어야함"
   ]
  },
  {
   "cell_type": "code",
   "execution_count": 6,
   "metadata": {},
   "outputs": [],
   "source": [
    "class NodeMgmt:\n",
    "    def __init__(self, head):\n",
    "        self.head = head\n",
    "        \n",
    "    #insert 할 때 루트노드로부터 좌, 우를 비교해서 작으면 왼쪽에 크면 오른쪽에 삽입\n",
    "    def insert(self, value):\n",
    "        self.current_node = self.head \n",
    "        while True:\n",
    "            if value < self.current_node.value:\n",
    "                if self.current_node.left != None: #좌측 child가 안비어있을 경우\n",
    "                    self.current_node = self.current_node.left # 비교 대상 변경\n",
    "                else: # 비어있을 경우\n",
    "                    self.current_node.left = Node(value) \n",
    "                    break\n",
    "            else:\n",
    "                if self.current_node.right != None:\n",
    "                    self.current_node = self.current_node.right\n",
    "                else:\n",
    "                    self.current_node.right = Node(value)\n",
    "                    break                    "
   ]
  },
  {
   "cell_type": "code",
   "execution_count": 7,
   "metadata": {},
   "outputs": [],
   "source": [
    "head = Node(1) #루트 노드\n",
    "BST = NodeMgmt(head) #루트노드를 가진 데이터 구조 객체\n",
    "BST.insert(2)"
   ]
  },
  {
   "cell_type": "markdown",
   "metadata": {},
   "source": [
    "#### 5.3 이진탐색트리 검색"
   ]
  },
  {
   "cell_type": "code",
   "execution_count": 12,
   "metadata": {},
   "outputs": [],
   "source": [
    "class NodeMgmt:\n",
    "    def __init__(self, head):\n",
    "        self.head = head\n",
    "        \n",
    "    #insert 할 때 루트노드로부터 좌, 우를 비교해서 작으면 왼쪽에 크면 오른쪽에 삽입\n",
    "    def insert(self, value):\n",
    "        self.current_node = self.head \n",
    "        while True:\n",
    "            if value < self.current_node.value:\n",
    "                if self.current_node.left != None: #좌측 child가 안비어있을 경우\n",
    "                    self.current_node = self.current_node.left # 비교 대상 변경\n",
    "                else: # 비어있을 경우\n",
    "                    self.current_node.left = Node(value) \n",
    "                    break\n",
    "            else:\n",
    "                if self.current_node.right != None:\n",
    "                    self.current_node = self.current_node.right\n",
    "                else:\n",
    "                    self.current_node.right = Node(value)\n",
    "                    break \n",
    "                    \n",
    "    def search(self, value):\n",
    "        self.current_node = self.head\n",
    "        while self.current_node:\n",
    "            if self.current_node.value == value:\n",
    "                return True\n",
    "            elif value < self.current_node.value:\n",
    "                self.current_node  = self.current_node.left\n",
    "            else:\n",
    "                self.current_node = self.current_node.right\n",
    "        return False          \n",
    "        "
   ]
  },
  {
   "cell_type": "code",
   "execution_count": 13,
   "metadata": {},
   "outputs": [],
   "source": [
    "head = Node(1)\n",
    "BST = NodeMgmt(head)\n",
    "BST.insert(2)\n",
    "BST.insert(3)\n",
    "BST.insert(0)\n",
    "BST.insert(4)\n",
    "BST.insert(8)"
   ]
  },
  {
   "cell_type": "code",
   "execution_count": 16,
   "metadata": {},
   "outputs": [
    {
     "data": {
      "text/plain": [
       "False"
      ]
     },
     "execution_count": 16,
     "metadata": {},
     "output_type": "execute_result"
    }
   ],
   "source": [
    "BST.search(9)"
   ]
  },
  {
   "cell_type": "markdown",
   "metadata": {},
   "source": [
    "#### 5.4 이진탐색트리 삭제\n",
    "- 매우 복잡\n",
    "- 경우의 수를 나누어 이해해보자\n",
    "\n",
    "#### 5.4.1. Leaf Node 삭제\n",
    "- Leaf Node: Child node가 없는 Node\n",
    "- 삭제할 Node의 Parent Node가 삭제할 Node를 가리키지 않도록한다.\n",
    "\n",
    "#### 5.4.2. Child Node가 하나인 Node 삭제\n",
    "- 삭제할 Node의 Parent Node가 삭제할 Node의 Child Node를 가리키도록한다.\n",
    "\n",
    "#### 5.4.3. Child Node가 두 개인 Node 삭제\n",
    "- 삭제할 Node의 오른쪽 자식중 가장 작은 값을 삭제할 Node의 Parent Node가 가리키도록 한다. (이걸로 구현)\n",
    "- 삭제할 Node의 왼쪽 자식중, 가장 큰 값을 삭제할 Node의 Parent Node가 가리키도록 한다.\n",
    "    #### 5.4.3.1 전략\n",
    "    1. 삭제할 Node의 오른쪽 자식 선택\n",
    "    2. 오른쪽 자식의 가장 왼쪽에 있는 Node를 선택\n",
    "    3. 해당 Node를 삭제할 노드의 Parent Node의 왼쪽 Branch가 가리키게 함.\n",
    "    4. 해당 Node의 왼쪽 Branch가 삭제할 Node의 왼쪽 Child Node를 가리키게 함\n",
    "    5. 만약 해당 Node가 오른쪽 Child Node를 가지고 있었을 경우에는, 해당 Node의 본래 Parent Node의 왼쪽 Branch가 해당 오른쪽 Child Node를 가리키게 함"
   ]
  },
  {
   "cell_type": "markdown",
   "metadata": {},
   "source": [
    "### 5.5 이진 탐색 트리 삭제 코드 구현과 분석\n",
    "#### 5.5.1 삭제할 노드 탐색\n",
    "- 삭제할 노드가 없는 경우도 처리해야함\n",
    "    - 이를 위해, 삭제할 Node가 없는 경우는 False를 리턴하고, 함수를 종료시킴"
   ]
  },
  {
   "cell_type": "code",
   "execution_count": null,
   "metadata": {},
   "outputs": [],
   "source": [
    "#def delete(self, value):\n",
    "    searched = False\n",
    "    self.current_node = self.head #삭제할 노드\n",
    "    self.parent = self.head#삭제할 노드의 부모 노드\n",
    "    while self.current_node:\n",
    "        if self.current_node.value == value:\n",
    "            searched = True\n",
    "            break\n",
    "        elif value < self.current_node.value:\n",
    "            self.parent = self.current_node\n",
    "            self.current_node = self.current_node.left\n",
    "        else:\n",
    "            self.parent = self.current_node\n",
    "            self.current_node = self.current_node.right\n",
    "            \n",
    "    if searched == False:\n",
    "        return False\n",
    "    \n",
    "    ### 이후부터 case3가지 들에 대해 분리해서 코드 작성할 것.\n",
    "    ### 현재는 실행 안됨!!(실행하지 말것)"
   ]
  },
  {
   "cell_type": "markdown",
   "metadata": {},
   "source": [
    "#### 5.5.2 Case1: 삭제할 Node가 Leaf Node인 경우"
   ]
  },
  {
   "cell_type": "code",
   "execution_count": null,
   "metadata": {},
   "outputs": [],
   "source": [
    "# self.current_node가 삭제할 node\n",
    "# self.parent 는 삭제할 Node의 Parent Node인 상태\n",
    "    if self.current_node.left == None and self.current_node.right == None:\n",
    "        if value < self.parent.value:\n",
    "            self.parent.left = None\n",
    "        else:\n",
    "            self.parent.right = None\n",
    "        del self.current_node"
   ]
  },
  {
   "cell_type": "markdown",
   "metadata": {},
   "source": [
    "#### 5.5.2 Case2: 삭제할 Node가 Child Node를 한 개 가지고 있을 경우"
   ]
  },
  {
   "cell_type": "code",
   "execution_count": null,
   "metadata": {},
   "outputs": [],
   "source": [
    "if self.current_node.left != None and self.current_node.right == None: #(왼쪽에만 child node 있는 경우)\n",
    "    if value < self.parent.value: \n",
    "        self.parent.left = self.current_node.left\n",
    "    else:\n",
    "        self.parent.right = self.current_node.left\n",
    "elif self.current_node.left == None and self.current_node.right != None:\n",
    "    if value < self.parent.value:\n",
    "        self.parent.left = self.current_node.right\n",
    "    else:\n",
    "        self.parent.right = self.current_node.right "
   ]
  },
  {
   "cell_type": "markdown",
   "metadata": {},
   "source": [
    "#### 5.5.3. Case3-1: 삭제할 Node가 Child Node를 두개 가지고 있을 경우( 삭제할 Node가 Parent Node *왼쪽*에 있을 때. )"
   ]
  },
  {
   "cell_type": "markdown",
   "metadata": {},
   "source": [
    "- 기본 사용 가능 전략\n",
    "    1. **삭제할 Node의 오른쪽 자식 중, 가장 작은 값을 삭제할 Node의 Parent Node가 가리키도록 한다.**\n",
    "    2. 삭제할 Node의 왼쪽 자식 중, 가장 큰 값을 삭제할 Node의 Parent Node가 가리키도록 한다.\n",
    "- 기본 사용 가능 전략 중, 1번 전략을 사용하여 코드 구현하기로 함.\n",
    "    - 경우의 수가 또다시 두가지가 있음\n",
    "        - **Case3-1-1**: 삭제할 Node가 Parent Node의 왼쪽에 있고, 삭제할 Node의 오른쪽 자식중, 가장 작은 값을 가진 Node의 Child Node가 없을 때.\n",
    "        - **Case3-1-2**: 삭제할 Node가 Parent Node의 왼쪽에 있고, 삭제할 Node의 오른쪽 자식중, 가장 작은 값을 가진 Node의 오른쪽에 Child Node가 있을 때.\n",
    "            - 가장 작은 값을 가진 Node의 Child Node가 왼쪽에 있을 경우는 없음. 왜냐하면 왼쪽 Node가 있다는 것은 해당 Node 보다 더 작은 값을 가진 Node가 있다는 뜻이기 때문"
   ]
  },
  {
   "cell_type": "code",
   "execution_count": null,
   "metadata": {},
   "outputs": [],
   "source": [
    "if self.current_node.left != None and self.current_node.right!=None:\n",
    "    if value < self.parent.value: # 삭제할 node가 왼쪽\n",
    "        self.change_node = self.current_node.right\n",
    "        self.change_node_parent = self.current_node.right\n",
    "        while self.change_node.left != None:\n",
    "            self.change_node_parent = self.change_node\n",
    "            self.change_node = self.change_node.left\n",
    "        if self.change_node.right != None: # 바꿔야할 노드의 오른쪽이 비어있지 않다면\n",
    "            self.change_node_parent.left = self.change_node.right #부모노드와 해당 노드를 연결할 것.\n",
    "        else: # 그게 아니라면\n",
    "            self.change_node_parent = None # 부모는 연결해 줄것 없음.\n",
    "        self.parent.left = self.change_node\n",
    "        self.change_node.left = self.current_node.lefth\n",
    "        self.change_node.right = self.current_node.right"
   ]
  },
  {
   "cell_type": "markdown",
   "metadata": {},
   "source": [
    "#### 5.5.3. Case3-2: 삭제할 Node가 Child Node를 두개 가지고 있을 경우( 삭제할 Node가 Parent Node *오른쪽* 에 있을 때. )"
   ]
  },
  {
   "cell_type": "markdown",
   "metadata": {},
   "source": [
    "- 기본 사용 가능 전략\n",
    "    1. **삭제할 Node의 오른쪽 자식 중, 가장 작은 값을 삭제할 Node의 Parent Node가 가리키도록 한다.**\n",
    "    2. 삭제할 Node의 왼쪽 자식 중, 가장 큰 값을 삭제할 Node의 Parent Node가 가리키도록 한다.\n",
    "- 기본 사용 가능 전략 중, 1번 전략을 사용하여 코드 구현하기로 함.\n",
    "    - 경우의 수가 또다시 두가지가 있음\n",
    "        - **Case3-2-1**: 삭제할 Node가 Parent Node의 왼쪽에 있고, 삭제할 Node의 오른쪽 자식중, 가장 작은 값을 가진 Node의 Child Node가 없을 때.\n",
    "        - **Case3-2-2**: 삭제할 Node가 Parent Node의 왼쪽에 있고, 삭제할 Node의 오른쪽 자식중, 가장 작은 값을 가진 Node의 오른쪽에 Child Node가 있을 때.\n",
    "            - 가장 작은 값을 가진 Node의 Child Node가 왼쪽에 있을 경우는 없음. 왜냐하면 왼쪽 Node가 있다는 것은 해당 Node 보다 더 작은 값을 가진 Node가 있다는 뜻이기 때문"
   ]
  },
  {
   "cell_type": "code",
   "execution_count": null,
   "metadata": {},
   "outputs": [],
   "source": [
    "#3-1의 if문을 통과했을 경우, else로 와서, 삭제할 노드가 Parent Node의 오른쪽에 있다는 의미를 가짐. 그래서 else로 진행\n",
    "   else:\n",
    "        self.change_node = self.current_node.right\n",
    "        self.change_node_parent = self.current_node.right\n",
    "        while self.change_node!= None:\n",
    "            self.change_node_parent = self.change_node\n",
    "            self.change_node = self.change_node.left\n",
    "        if self.change_node.right != None:\n",
    "            self.change_node_parent.left = self.change_node.right\n",
    "        else:\n",
    "            self.change_node_parent.left = None\n",
    "        self.parent.right = self.change_node\n",
    "        self.change_node.left = self.current_node.left\n",
    "        self.change_node.right = self.current_node.right"
   ]
  },
  {
   "cell_type": "markdown",
   "metadata": {},
   "source": [
    "#### 5.5.5. BST최종 (위에 삭제 구현한것들 합하기)"
   ]
  },
  {
   "cell_type": "code",
   "execution_count": 29,
   "metadata": {},
   "outputs": [],
   "source": [
    "class Node:\n",
    "    def __init__(self, value):\n",
    "        self.value = value\n",
    "        self.left = None\n",
    "        self.right = None\n",
    "        \n",
    "class NodeMgmt:\n",
    "    def __init__(self, head):\n",
    "        self.head = head\n",
    "        \n",
    "    #insert 할 때 루트노드로부터 좌, 우를 비교해서 작으면 왼쪽에 크면 오른쪽에 삽입\n",
    "    def insert(self, value):\n",
    "        self.current_node = self.head \n",
    "        while True:\n",
    "            if value < self.current_node.value:\n",
    "                if self.current_node.left != None: #좌측 child가 안비어있을 경우\n",
    "                    self.current_node = self.current_node.left # 비교 대상 변경\n",
    "                else: # 비어있을 경우\n",
    "                    self.current_node.left = Node(value) \n",
    "                    break\n",
    "            else:\n",
    "                if self.current_node.right != None:\n",
    "                    self.current_node = self.current_node.right\n",
    "                else:\n",
    "                    self.current_node.right = Node(value)\n",
    "                    break \n",
    "                    \n",
    "    def search(self, value):\n",
    "        self.current_node = self.head\n",
    "        while self.current_node:\n",
    "            if self.current_node.value == value:\n",
    "                return True\n",
    "            elif value < self.current_node.value:\n",
    "                self.current_node  = self.current_node.left\n",
    "            else:\n",
    "                self.current_node = self.current_node.right\n",
    "        return False          \n",
    "\n",
    "    def delete(self, value):\n",
    "        # 삭제할 노드 탐색\n",
    "        searched = False # delete할 node가 있는지 판단하기 위해서 boolean 변수 선언\n",
    "        self.current_node = self.head \n",
    "        self.parent = self.head \n",
    "        while self.current_node:\n",
    "            if self.current_node.value == value:\n",
    "                searched = True\n",
    "                break\n",
    "            elif value < self.current_node.value:\n",
    "                self.parent = self.current_node\n",
    "                self.current_node = self.current_node.left\n",
    "            else:\n",
    "                self.parent = self.current_node\n",
    "                self.current_node = self.current_node.right\n",
    "                \n",
    "        if searched == False: # delete할 node가 없을 경우 False 반환하고 종료\n",
    "            return False\n",
    "        \n",
    "       # case1\n",
    "        if self.current_node.left == None and self.current_node.right == None:\n",
    "            if value < self.parent.value:\n",
    "                self.parent.left = None\n",
    "            else:\n",
    "                self.parent.right = None\n",
    "            del self.current_node\n",
    "            \n",
    "        # case2\n",
    "        if self.current_node.left != None and self.current_node.right == None:\n",
    "            if value < self.parent.value: \n",
    "                self.parent.left = self.current_node.left\n",
    "            else:\n",
    "                self.parent.right = self.current_node.left\n",
    "        elif self.current_node.left == None and self.current_node.right != None:\n",
    "            if value < self.parent.value:\n",
    "                self.parent.left = self.current_node.right\n",
    "            else:\n",
    "                self.parent.right = self.current_node.right\n",
    "                \n",
    "        # case3\n",
    "        if self.current_node.left != None and self.current_node.right!=None:\n",
    "             # case3-1 삭제할 node가 왼쪽\n",
    "            if value < self.parent.value:\n",
    "                self.change_node = self.current_node.right\n",
    "                self.change_node_parent = self.current_node.right\n",
    "                while self.change_node.left != None:\n",
    "                    self.change_node_parent = self.change_node\n",
    "                    self.change_node = self.change_node.left\n",
    "                if self.change_node.right != None:  \n",
    "                    self.change_node_parent.left = self.change_node.right \n",
    "                else:  \n",
    "                    self.change_node_parent = None \n",
    "                self.parent.left = self.change_node\n",
    "                self.change_node.left = self.current_node.lefth\n",
    "                self.change_node.right = self.current_node.right\n",
    "                \n",
    "             # case3-2 삭제할 node가 오른쪽\n",
    "            else:\n",
    "                self.change_node = self.current_node.right\n",
    "                self.change_node_parent = self.current_node.right\n",
    "                while self.change_node!= None:\n",
    "                    self.change_node_parent = self.change_node\n",
    "                    self.change_node = self.change_node.left\n",
    "                if self.change_node.right != None:\n",
    "                    self.change_node_parent.left = self.change_node.right\n",
    "                else:\n",
    "                    self.change_node_parent.left = None\n",
    "                self.parent.right = self.change_node\n",
    "                self.change_node.left = self.current_node.left\n",
    "                self.change_node.right = self.current_node.right\n",
    "        return True"
   ]
  },
  {
   "cell_type": "markdown",
   "metadata": {},
   "source": [
    "#### 5.5.6 파이선 전체 코드 테스트\n",
    "- random 라이브러리 활용\n",
    "    - random.randint(첫번째 숫자, 마지막 숫자) : 첫번째 숫자부터 마지막 숫자 사이에 잇는 숫자를 랜덤하게 선택해서 리턴\n",
    "        - 예: random.randint(0, 99): 0부터 99까지의 숫자중 특정 숫자를 랜덤하게 선택해서 리턴"
   ]
  },
  {
   "cell_type": "code",
   "execution_count": 30,
   "metadata": {},
   "outputs": [],
   "source": [
    "# 1 -1000의 숫자 중에서 임의로 100개 추출해서, 이진탐색트리에 입력, 검색, 삭제\n",
    "# pip install random\n",
    "import random\n",
    "\n",
    "# 1-1000 의 숫자중 100개의 숫자 랜덤 선택\n",
    "bst_nums = set()\n",
    "while len(bst_nums) != 100:\n",
    "    bst_nums.add(random.randint(0,999))\n",
    "#print(bst_nums)\n",
    "\n",
    "\n",
    "#선택된 100개의 숫자를 이진탐색트리에 입력, 임의로 루트 노드는 500을 넣기로 함!\n",
    "head = Node(500)\n",
    "binary_tree = NodeMgmt(head)\n",
    "for num in bst_nums:\n",
    "    binary_tree.insert(num)\n",
    "\n",
    "#입력한 100개의 숫자 검색(검색 기능 확인)\n",
    "for num in bst_nums:\n",
    "    if binary_tree.search(num) == False:\n",
    "        print('search failed', num)\n",
    "        \n",
    "# 입력한 100개의 숫자 중 10개의 숫자를 랜덤 선택\n",
    "delete_nums = set()\n",
    "bst_nums = list(bst_nums)\n",
    "while len(delete_nums) !=10:\n",
    "    delete_nums.add(bst_nums[random.randint(0,99)])\n",
    "# print(delete_nums)\n",
    "\n",
    "# 선택한 10개의 숫자를 삭제(삭제 기능 확인)\n",
    "for del_num in delete_nums:\n",
    "    if binary_tree.delete(del_num)== False:\n",
    "        print('delete failed', del_num)"
   ]
  },
  {
   "cell_type": "markdown",
   "metadata": {},
   "source": [
    "### 6. 이진 탐색 트리의 시간 복잡도와 탄점\n",
    "#### 6.1. 시간 복잡도(탐색시)\n",
    "- depth(트리의 높이) 를 h라고 표기한다면, O(h)\n",
    "- n개의 노드를 가진다면, h = log₂n 에 가까우므로, 시간복잡도는 **O(logN)**\n",
    "    - 참고: 빅오 표기법에서 logn에서의 log의 밑은 10이 아니라 2입니다.\n",
    "        - 한번 실행시마다, 50%의 실행할 수도 있는 명령을 제거한다는 의미\n",
    "        - 즉, 50% 의 실행시간을 단축시킬 수 있다는 것을 의미함"
   ]
  },
  {
   "cell_type": "markdown",
   "metadata": {},
   "source": [
    "#### 6.2 이진 탐색 트리의 단점\n",
    "- 평균 시간 복잡도(logn) 이지만,\n",
    "    - 이는 트리가 균형잡혀 있을 때의 평균 시간 복잡도이며,\n",
    "- 최악의 경우는 링크드 리스트와 동일한 성능을 보여줌(O(N))"
   ]
  },
  {
   "cell_type": "code",
   "execution_count": null,
   "metadata": {},
   "outputs": [],
   "source": []
  }
 ],
 "metadata": {
  "kernelspec": {
   "display_name": "Python 3",
   "language": "python",
   "name": "python3"
  },
  "language_info": {
   "codemirror_mode": {
    "name": "ipython",
    "version": 3
   },
   "file_extension": ".py",
   "mimetype": "text/x-python",
   "name": "python",
   "nbconvert_exporter": "python",
   "pygments_lexer": "ipython3",
   "version": "3.7.4"
  }
 },
 "nbformat": 4,
 "nbformat_minor": 2
}
