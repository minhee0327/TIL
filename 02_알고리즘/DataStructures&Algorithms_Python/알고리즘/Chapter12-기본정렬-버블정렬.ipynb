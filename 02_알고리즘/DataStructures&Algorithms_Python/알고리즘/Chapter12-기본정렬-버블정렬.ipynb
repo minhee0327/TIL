{
 "cells": [
  {
   "cell_type": "markdown",
   "metadata": {},
   "source": [
    "## 기본정렬1: 버블 정렬\n",
    "### 1. 정렬(sorting)이란?\n",
    "- 정렬: 어떤 데이터들이 주어졌을 때 이를 정해진 순서대로 나열하는 것\n",
    "- 정렬은 프로그램 작성시 빈번하게 필요로 함\n",
    "- 다양한 알고리즘이 고안되었으며 알고리즘 학습의 필수\n",
    "> 다양한 정렬 알고리즘 이해를 통해, 동일 문제에 대해 다양한 알고리즘이 고안될 수 있음을 이해하고  \n",
    "> 각 알고리즘간 성능 비교를 통해 성능분석에 대해 이해"
   ]
  },
  {
   "cell_type": "markdown",
   "metadata": {},
   "source": [
    "### 2. 버블정렬(bubble sort)란?\n",
    "- 두 인접한 데이터를 비교해서, 앞에 있는 데이터가 뒤에 있는 데이터보다 크면 자리를 바꾸는 정렬 알고리즘\n",
    "- 첫번째 insight\n",
    "```python\n",
    "for index in range(데이터길이 -1):\n",
    "    for index2 in range(데이터길이 -1):\n",
    "        if 앞데이터 > 뒷데이터:\n",
    "            SWAP(앞데이터, 뒷데이터)\n",
    "```\n",
    "- 두번째 insight: 로직을 한번 적용할 때마다, 가장 큰 숫자가 뒤에서 부터 1개씩 결정됨(index 값만큼 결정 됨)\n",
    "```python\n",
    "for index in range(데이터길이 -1):\n",
    "    for index2 in range(데이터길이 - index -1):\n",
    "        if 앞데이터 > 뒷데이터:\n",
    "            SWAP(앞데이터, 뒷데이터)\n",
    "```\n",
    "- 세번째 insight: 이미 정렬되어 있을 때 굳이 다 돌 필요 없다. (SWAP이 한번도 일어나지 않았다면 이미 정렬된 데이터이다.)"
   ]
  },
  {
   "cell_type": "code",
   "execution_count": 3,
   "metadata": {},
   "outputs": [],
   "source": [
    "def bubble_sort(data):\n",
    "    for index in range(len(data)-1):\n",
    "        swap = False\n",
    "        for index2 in range(len(data)-1 - index):\n",
    "            if data[index2] > data[index2+1]:\n",
    "                data[index2], data[index2+1] = data[index2+1], data[index2]\n",
    "                swap = True\n",
    "        if swap == False:\n",
    "            break\n",
    "    return data"
   ]
  },
  {
   "cell_type": "code",
   "execution_count": 6,
   "metadata": {},
   "outputs": [
    {
     "name": "stdout",
     "output_type": "stream",
     "text": [
      "[0, 1, 2, 5, 7, 8, 9, 10, 11, 12, 13, 14, 16, 17, 18, 19, 23, 24, 26, 29, 31, 34, 35, 39, 47, 48, 49, 52, 54, 58, 59, 61, 63, 64, 65, 66, 68, 69, 70, 71, 76, 80, 81, 83, 84, 88, 93, 95, 98, 99]\n"
     ]
    }
   ],
   "source": [
    "import random\n",
    "\n",
    "data_list = random.sample(range(100), 50)\n",
    "print(bubble_sort(data_list))"
   ]
  },
  {
   "cell_type": "markdown",
   "metadata": {},
   "source": [
    "### 시간복잡도\n",
    "- 반복문이 두개이므로 O(n²)\n",
    "    - 최악의 경우 n * (n-1) / 2\n",
    "- 완전 정렬이 되어 있을 경우 O(n)"
   ]
  },
  {
   "cell_type": "markdown",
   "metadata": {},
   "source": [
    "### 혼자 한번 더 연습하기"
   ]
  },
  {
   "cell_type": "code",
   "execution_count": 8,
   "metadata": {},
   "outputs": [],
   "source": [
    "def bubbled_sort(data):\n",
    "    for i in range(len(data)-1):\n",
    "        swap = 0\n",
    "        for j in range(len(data)-1-i):\n",
    "            if data[j] > data[j+1]:\n",
    "                data[j], data[j+1] = data[j+1], data[j]\n",
    "                swap+=1\n",
    "        if swap == 0:\n",
    "            break\n",
    "    return data"
   ]
  },
  {
   "cell_type": "code",
   "execution_count": 9,
   "metadata": {},
   "outputs": [
    {
     "name": "stdout",
     "output_type": "stream",
     "text": [
      "[4, 17, 30, 32, 42, 54, 64, 65, 94, 98]\n"
     ]
    }
   ],
   "source": [
    "import random\n",
    "\n",
    "data_list = random.sample(range(100), 10)\n",
    "print(bubbled_sort(data_list))"
   ]
  }
 ],
 "metadata": {
  "kernelspec": {
   "display_name": "Python 3",
   "language": "python",
   "name": "python3"
  },
  "language_info": {
   "codemirror_mode": {
    "name": "ipython",
    "version": 3
   },
   "file_extension": ".py",
   "mimetype": "text/x-python",
   "name": "python",
   "nbconvert_exporter": "python",
   "pygments_lexer": "ipython3",
   "version": "3.7.4"
  }
 },
 "nbformat": 4,
 "nbformat_minor": 2
}
