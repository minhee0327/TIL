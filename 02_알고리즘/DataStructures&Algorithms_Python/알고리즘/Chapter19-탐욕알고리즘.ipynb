{
 "cells": [
  {
   "cell_type": "markdown",
   "metadata": {},
   "source": [
    "## 1. 대표예제\n",
    "- 문제 1: 동전문제\n",
    "    - 지불해야하는 값이 4720원, 1원 50원, 100원, 500원 동전으로 동전수가 가장 적게 지불\n",
    "        - 가장 큰 동전부터 최대한 지불해야하는 값을 채우는 방식으로 구현가능\n",
    "        - 탐욕알고리즘으로 매 순간 최적이라고 생각되는 경우를 선택하면 됨"
   ]
  },
  {
   "cell_type": "code",
   "execution_count": 36,
   "metadata": {},
   "outputs": [],
   "source": [
    "def min_coin_count(value, coin_list):\n",
    "        count = 0\n",
    "        details = []\n",
    "        coin_list.sort(reverse=True) #내림차순 (500,100,50,10) \n",
    "        for coin in coin_list:\n",
    "            details.append([coin, value//coin])\n",
    "            count += (value//coin)\n",
    "            value %=coin\n",
    "            \n",
    "        return count, details"
   ]
  },
  {
   "cell_type": "code",
   "execution_count": 38,
   "metadata": {},
   "outputs": [
    {
     "data": {
      "text/plain": [
       "(31, [[500, 9], [100, 2], [50, 0], [1, 20]])"
      ]
     },
     "execution_count": 38,
     "metadata": {},
     "output_type": "execute_result"
    }
   ],
   "source": [
    "coin_list = [500,100,50,1]\n",
    "min_coin_count(4720, coin_list)"
   ]
  },
  {
   "cell_type": "markdown",
   "metadata": {},
   "source": [
    "- 문제 2: 부분 배낭문제\n",
    "    - 무게 제한이 k 인 배낭에 최대 가치를 가지도록 물건을 넣는 문제\n",
    "    - 각 물건은 무게 (w) 와 가치(v)로 표현 될 수 있음\n",
    "    - 물건은 쪼갤 수 있으므로 물건의 일부분이 배낭에 넣어질 수 있음 \n",
    "    - 그래서 Fractional Knapsack Problem으로 부름\n",
    "        - Fractional Knapsack Problem의 반대로 물건을 쪼개 넣을 수 없는 배낭문제도 존재함( 0/1 Knapsack Problem 으로 부름)"
   ]
  },
  {
   "cell_type": "code",
   "execution_count": 39,
   "metadata": {},
   "outputs": [],
   "source": [
    "data_list = [(10,10),(15,12),(20,10),(25,8),(30,5)] # w,v"
   ]
  },
  {
   "cell_type": "code",
   "execution_count": 43,
   "metadata": {},
   "outputs": [
    {
     "data": {
      "text/plain": [
       "[(10, 10), (15, 12), (20, 10), (25, 8), (30, 5)]"
      ]
     },
     "execution_count": 43,
     "metadata": {},
     "output_type": "execute_result"
    }
   ],
   "source": [
    "data_list = sorted(data_list, key=lambda x:x[1]/x[0],reverse= True) # 무게당 가치, 큰값=>작은값(내림차)\n",
    "data_list"
   ]
  },
  {
   "cell_type": "code",
   "execution_count": 61,
   "metadata": {},
   "outputs": [],
   "source": [
    "def get_max_value(data_list,capacity): # capacity: 최대 무게(k)\n",
    "    data_list = sorted(data_list, key=lambda x: x[1]/x[0], reverse= True)\n",
    "    total_value = 0\n",
    "    details = list()\n",
    "    \n",
    "    for data in data_list:\n",
    "        if capacity - data[0] >=0:\n",
    "            capacity -= data[0]\n",
    "            total_value += data[1]\n",
    "            details.append([data[0],data[1],1])\n",
    "        else:\n",
    "            fraction = capacity/data[0]\n",
    "            total_value += fraction * data[1]\n",
    "            details.append([data[0], data[1],fraction]) #w, v, 무게당 허용치\n",
    "            break\n",
    "    return total_value, details   "
   ]
  },
  {
   "cell_type": "code",
   "execution_count": 62,
   "metadata": {},
   "outputs": [
    {
     "data": {
      "text/plain": [
       "(24.5, [[10, 10, 1], [15, 12, 1], [20, 10, 0.25]])"
      ]
     },
     "execution_count": 62,
     "metadata": {},
     "output_type": "execute_result"
    }
   ],
   "source": [
    "data_list = [(10,10),(15,12),(20,10),(25,8),(30,5)] \n",
    "get_max_value(data_list,30)"
   ]
  },
  {
   "cell_type": "markdown",
   "metadata": {},
   "source": [
    "## 2. 탐욕 알고리즘의 한계\n",
    "- 탐욕알고리즘은 근사치 추정에 활용\n",
    "- 반드시 최적의 해를 구할 수 있는 것은 아님\n",
    "- 최적의 해에 가까운 값을 구하는 방법 중 하나"
   ]
  }
 ],
 "metadata": {
  "kernelspec": {
   "display_name": "Python 3",
   "language": "python",
   "name": "python3"
  },
  "language_info": {
   "codemirror_mode": {
    "name": "ipython",
    "version": 3
   },
   "file_extension": ".py",
   "mimetype": "text/x-python",
   "name": "python",
   "nbconvert_exporter": "python",
   "pygments_lexer": "ipython3",
   "version": "3.7.4"
  }
 },
 "nbformat": 4,
 "nbformat_minor": 2
}
