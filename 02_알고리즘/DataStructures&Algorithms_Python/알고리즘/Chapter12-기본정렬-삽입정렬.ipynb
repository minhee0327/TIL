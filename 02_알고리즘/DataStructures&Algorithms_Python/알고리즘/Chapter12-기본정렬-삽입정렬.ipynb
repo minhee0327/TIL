{
 "cells": [
  {
   "cell_type": "markdown",
   "metadata": {},
   "source": [
    "## 대표적인 정렬2: 삽입정렬(insertion sort)"
   ]
  },
  {
   "cell_type": "markdown",
   "metadata": {},
   "source": [
    "* 핵심코드\n",
    "```python\n",
    "for index in range(1,데이터길이 -1):\n",
    "    for index2 in range(index, -1, -1):\n",
    "        if data[index2] < data[index2-1]:\n",
    "            swap(data[index2] , data[index2-1])\n",
    "        else: # 만약에 key값보다 순회하는 앞의 값들이 적으면 더이상 돌 필요 없음\n",
    "            break\n",
    "```"
   ]
  },
  {
   "cell_type": "code",
   "execution_count": 165,
   "metadata": {},
   "outputs": [],
   "source": [
    "def insertion_sort(data):\n",
    "    for index in range(len(data)-1):\n",
    "        for index2 in range(index+1, 0, -1):\n",
    "            if data[index2] < data[index2-1]:\n",
    "                data[index2], data[index2-1] = data[index2-1], data[index2]\n",
    "            else:\n",
    "                break\n",
    "    return data\n",
    "                "
   ]
  },
  {
   "cell_type": "code",
   "execution_count": 167,
   "metadata": {},
   "outputs": [
    {
     "name": "stdout",
     "output_type": "stream",
     "text": [
      "[2, 3, 12, 24, 27, 28, 29, 33, 35, 51, 61, 62, 65, 66, 72, 76, 82, 83, 96, 97]\n"
     ]
    }
   ],
   "source": [
    "import random\n",
    "\n",
    "data_list = random.sample(range(100), 20)\n",
    "print(insertion_sort(data_list))"
   ]
  },
  {
   "cell_type": "markdown",
   "metadata": {},
   "source": [
    "### 시간복잡도\n",
    "- 반복문이 두개 O(n²)\n",
    "    - 최악의 경우 n * (n-1) / 2\n",
    "- 정렬이 되어있는 경우, 최선 O(n)"
   ]
  },
  {
   "cell_type": "markdown",
   "metadata": {},
   "source": [
    "### 혼자 구현해보기"
   ]
  },
  {
   "cell_type": "code",
   "execution_count": 163,
   "metadata": {},
   "outputs": [],
   "source": [
    "def insertion_sort(data):\n",
    "    for i in range(1,len(data)):\n",
    "        key = data[i]\n",
    "        for j in range(i, 0, -1):\n",
    "            if key < data[j-1]:\n",
    "                data[j],data[j-1] = data[j-1] , data[j]\n",
    "            else: \n",
    "                break\n",
    "    return data"
   ]
  },
  {
   "cell_type": "code",
   "execution_count": 164,
   "metadata": {},
   "outputs": [
    {
     "name": "stdout",
     "output_type": "stream",
     "text": [
      "[1, 2, 4, 6, 8, 11, 17, 19, 19, 20]\n"
     ]
    }
   ],
   "source": [
    "from random import *\n",
    "\n",
    "data_list = []\n",
    "for _ in range(10):\n",
    "    data_list.append(randint(1,20))\n",
    "print(insertion_sort(data_list))"
   ]
  }
 ],
 "metadata": {
  "kernelspec": {
   "display_name": "Python 3",
   "language": "python",
   "name": "python3"
  },
  "language_info": {
   "codemirror_mode": {
    "name": "ipython",
    "version": 3
   },
   "file_extension": ".py",
   "mimetype": "text/x-python",
   "name": "python",
   "nbconvert_exporter": "python",
   "pygments_lexer": "ipython3",
   "version": "3.7.4"
  }
 },
 "nbformat": 4,
 "nbformat_minor": 2
}
