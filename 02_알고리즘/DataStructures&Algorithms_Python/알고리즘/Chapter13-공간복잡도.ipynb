{
 "cells": [
  {
   "cell_type": "markdown",
   "metadata": {},
   "source": [
    "## 참고: 공간복잡도\n",
    "- 알고리즘 계산 복잡도는 다음 두가지 척도로 표현됨\n",
    "    - 시간복잡도: 얼마나 빠르게 실행되는지\n",
    "    - 공간복잡도: 얼마나 많은 저장 공간이 필요한지\n",
    "    > 좋은 알고리즘은 실행 시간도 짧고, 저장공간도 적게 쓰는 알고리즘\n",
    "- 통상 둘다 만족시키기 어려움\n",
    "    - 시간 공간은 반비례적 경향 있음\n",
    "    - 최근 대용량 시스템 보편화 되면서 공간복잡도보다는 시간 복잡도가 우선\n",
    "    - 그래서 알고리즘은 시간 복잡도가 중심이됨\n",
    "\n",
    "### 공간 복잡도 대략적인 계산은 필요함\n",
    "- 기존 알고리즘 문제는 예전에 공간복잡도도 고려되어야 할 때 만들어진 경우가 많음\n",
    "- 그래서 기존 알고리즘 문제에 시간 복잡도 뿐만 아니라 공간복잡도 제약사항이 있는 경우 있음\n",
    "- 또한 기존 알고리즘 문제에 영향 받아서 면접에도 종종 묻는 경우 있음\n",
    "\n",
    "> 현업에서 최근 빅데이터를 다룰 때는 저장공간을 고려해서 구현하는 경우도 있음\n",
    "\n",
    "### 1. 공간복잡도(Space Complexity)\n",
    "- 프로그램을 실행 및 완료하는데 필요한 저장 공간의 양을 뜻함\n",
    "- 총 필요저장공간\n",
    "    - 고정 공간: 코드 저장 공간, 단순 변수 및 상수\n",
    "    - **가변 공간**: 실행중 동적으로 필요한 공간\n",
    "    - S(P) = c + Sp(n)\n",
    "        - c: 고정 공간\n",
    "        - Sp(n): 가변 공간\n",
    "\n",
    "### 2. 공간복잡도 계산\n",
    "- 공간 복잡도 계산은 알고리즘에서 실제 사용되는 저장 공간을 계산하면 됨\n",
    "    - 이를 빅오 표기법으로 표현할 수 있으면 됨.\n",
    "    \n",
    "#### 예제1: 반복문 팩토리얼\n",
    "- n! = 1 * 2 * .... * n\n",
    "- n값에 상관 없이 변수 n, 변수 fac, 변수 index만 필요함\n",
    "- 공간복잡도는 O(1)\n",
    "> 공간 복잡도 계산은 실제 알고리즘 실행 시 사용되는 저장공간을 계산하면 됨\n",
    "\n",
    "```python\n",
    "def factorial(n):\n",
    "    fac = 1\n",
    "    for index in range(2, n+1):\n",
    "        fac = fac* index\n",
    "    return fac                   \n",
    "```\n",
    "\n",
    "#### 예제2: 재귀함수로 팩토리얼\n",
    "- 재귀함수를 사용하였으므로, n에 따라 변수 n이 n개가 만들어지게 됨\n",
    "    - factorial 함수를 재귀함수로 1까지 호출하였을 경우, n부터 1까지 스택에 쌓이게 됨\n",
    "- 공간복잡도는 O(n)\n",
    "```python\n",
    "def factorial(n):\n",
    "    if n> 1:\n",
    "        return n * factorial(n-1)\n",
    "    else:\n",
    "        return 1\n",
    "```"
   ]
  }
 ],
 "metadata": {
  "kernelspec": {
   "display_name": "Python 3",
   "language": "python",
   "name": "python3"
  },
  "language_info": {
   "codemirror_mode": {
    "name": "ipython",
    "version": 3
   },
   "file_extension": ".py",
   "mimetype": "text/x-python",
   "name": "python",
   "nbconvert_exporter": "python",
   "pygments_lexer": "ipython3",
   "version": "3.7.4"
  }
 },
 "nbformat": 4,
 "nbformat_minor": 2
}
