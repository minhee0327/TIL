{
 "cells": [
  {
   "cell_type": "markdown",
   "metadata": {},
   "source": [
    "### 1. 프림알고리즘 혼자 구현해보기"
   ]
  },
  {
   "cell_type": "code",
   "execution_count": 14,
   "metadata": {},
   "outputs": [],
   "source": [
    "from heapq import *\n",
    "from collections import defaultdict\n",
    "\n",
    "def prims(start_node, edges):\n",
    "    adjacent_edges = defaultdict(list)\n",
    "    \n",
    "    for weight, n1, n2 in edges:\n",
    "        adjacent_edges[n1].append((weight, n1,n2))\n",
    "        adjacent_edges[n2].append((weight , n2, n1))\n",
    "        \n",
    "    connected_nodes = set(start_node)\n",
    "    candidated_edge_list = adjacent_edges[start_node]\n",
    "    heapify(candidated_edge_list)\n",
    "    mst = list()\n",
    "    \n",
    "    while candidated_edge_list:\n",
    "        weight, n1, n2 = heappop(candidated_edge_list)\n",
    "        if n2 not in connected_nodes:\n",
    "            connected_nodes.add(n2)\n",
    "            mst.append((weight, n1, n2))\n",
    "            \n",
    "            for edge in adjacent_edges[n2]:\n",
    "                if edge[2] not in connected_nodes:\n",
    "                    heappush(candidated_edge_list, edge)\n",
    "                    \n",
    "    return mst"
   ]
  },
  {
   "cell_type": "code",
   "execution_count": 15,
   "metadata": {},
   "outputs": [],
   "source": [
    "edges = [\n",
    "    (7,'A','B'),\n",
    "    (5,'A','D'),\n",
    "    (9,'B','D'),\n",
    "    (8,'B','C'),\n",
    "    (7,'B','E'),\n",
    "    (5,'C','E'),\n",
    "    (7,'D','E'),\n",
    "    (6,'D','F'),\n",
    "    (8,'E','F'),\n",
    "    (9,'E','G'),\n",
    "    (11,'F','G')\n",
    "]"
   ]
  },
  {
   "cell_type": "code",
   "execution_count": 16,
   "metadata": {},
   "outputs": [
    {
     "data": {
      "text/plain": [
       "[(5, 'A', 'D'),\n",
       " (6, 'D', 'F'),\n",
       " (7, 'A', 'B'),\n",
       " (7, 'B', 'E'),\n",
       " (5, 'E', 'C'),\n",
       " (9, 'E', 'G')]"
      ]
     },
     "execution_count": 16,
     "metadata": {},
     "output_type": "execute_result"
    }
   ],
   "source": [
    "prims('A',edges)"
   ]
  },
  {
   "cell_type": "markdown",
   "metadata": {},
   "source": [
    "### 2. 개선된 프림알고리즘"
   ]
  },
  {
   "cell_type": "markdown",
   "metadata": {},
   "source": [
    "- 이전에 구현한 프림알고리즘의 경우, 간선을 기준으로 잡으면서 O(ElogE)의 시간복잡도\n",
    "    - 보통은 노드보다 간선이 많은경우가 많음\n",
    "    - 따라서 노드를기준으로 한 코드를 작성하여 개선을 하게됨 O(ElogV)\n",
    "    \n",
    "- 노드를 기준으로 우선순위 큐 적용 O(ElogV)\n",
    "    - **초기화 - 정점: key구조 만들고 특정정점의 key값은 0, 나머지 정점들의 key값은 무한대로 놓음**\n",
    "        모든 정점:: key값은 우선순위 큐에 넣음\n",
    "    - **가장 key값이 적은 정점: key를 추출한 후**\n",
    "        - (pop 하므로 해당정점: key 정보는 우선순위 큐에서 삭제됨)\n",
    "        - (extract min 로직이라고 불림)\n",
    "    - **해당 정점의 인접한 정점들에 대해 key값과 연결된 가중치 값을 비교하여 key값보다 값이 작으면 해당정점: key값을 갱신(연결된 가중치 값으로)**\n",
    "        - key값 갱신시 어느노드와 간선으로 부터 들어온 것인지 저장(pi)\n",
    "        - 정점: key값 갱신시, 우선순위 큐는 최소 key값을 가지는 정점: key를 루트노드로 올려놓도록 재구성함\n",
    "        - (decrease key 로직이라고 불림)\n",
    "        \n",
    "- 개선된 프림알고리즘 구현시 고려사항\n",
    "    - 우선순위 큐(최소힙) 구조에서, 이미 들어가 있는 데이터 값 변경시 최소값을 가지는 데이터를 루트노드로 올려놓도록 재구성하는 기능 필요\n",
    "    - 구현 복잡도 줄이기 위해 heapdict 라이브러리 사용"
   ]
  },
  {
   "cell_type": "code",
   "execution_count": 33,
   "metadata": {},
   "outputs": [],
   "source": [
    "from heapdict import heapdict\n",
    "\n",
    "def prim(graph, start):\n",
    "    mst, keys, pi, total_weight = list(), heapdict(), dict(), 0\n",
    "    for node in graph.keys():\n",
    "        keys[node] = float('inf')\n",
    "        pi[node] = None\n",
    "    keys[start], pi[start] = 0, start\n",
    "    \n",
    "    while keys:\n",
    "        current_node, current_key = keys.popitem()\n",
    "        mst.append([pi[current_node], current_node, current_key]) # 선택된 최소 간선\n",
    "        total_weight +=  current_key\n",
    "        for adjacent, weight in mygraph[current_node].items():\n",
    "            if adjacent in keys and weight  <keys[adjacent]:\n",
    "                keys[adjacent] =weight \n",
    "                pi[adjacent] = current_node\n",
    "    return mst, total_weight "
   ]
  },
  {
   "cell_type": "code",
   "execution_count": 37,
   "metadata": {},
   "outputs": [
    {
     "name": "stdout",
     "output_type": "stream",
     "text": [
      "MST:  [['A', 'A', 0], ['A', 'D', 5], ['D', 'F', 6], ['D', 'E', 7], ['E', 'C', 5], ['A', 'B', 7], ['E', 'G', 9]]\n",
      "Total weight:  39\n"
     ]
    }
   ],
   "source": [
    "mygraph = {\n",
    "    'A':{'B':7, 'D':5},\n",
    "    'B':{'A':7,'D':9,'C':8,'E':7},\n",
    "    'C':{'B':8, 'E':5},\n",
    "    'D':{'A':5,'B':9,'F':6,'E':7},\n",
    "    'E':{'B':7,'D':7,'C':5,'F':8,'G':9},\n",
    "    'F':{'D':6,'G':11,'E':8},\n",
    "    'G':{'F':11,'E':9},\n",
    "}\n",
    "\n",
    "mst, total_weight = prim(mygraph,'A')\n",
    "print('MST: ', mst)\n",
    "print('Total weight: ', total_weight)"
   ]
  },
  {
   "cell_type": "markdown",
   "metadata": {},
   "source": [
    "### 3. 시간복잡도\n",
    "1. keys.popitem() 을 노드의 갯수만큼 반복하기 때문에 O(VlogV)\n",
    "    1. while구문은 V(노드 갯수)만큼 반복 \n",
    "    2. heap에서 최소 key값 가지는 노드 정보 pop의 시간복잡도 O(logV)\n",
    "2. 최초 key생성 시간복잡도:  O(V)\n",
    "3. 노드의 key값을 업데이트 할때마다, heap이 재구성되야함.O(ElogV)\n",
    "    \n",
    "정리\n",
    "1. O(V+VlogV + ElogV)\n",
    "    - V는 다른 합하는 값들에 비해 작은값 (무시)\n",
    "    - (V+E)logV\n",
    "    - E>V이고, 최대 E == V^2, 따라서 O(ElogV)로 나타낼수있음"
   ]
  }
 ],
 "metadata": {
  "kernelspec": {
   "display_name": "Python 3",
   "language": "python",
   "name": "python3"
  },
  "language_info": {
   "codemirror_mode": {
    "name": "ipython",
    "version": 3
   },
   "file_extension": ".py",
   "mimetype": "text/x-python",
   "name": "python",
   "nbconvert_exporter": "python",
   "pygments_lexer": "ipython3",
   "version": "3.7.4"
  }
 },
 "nbformat": 4,
 "nbformat_minor": 2
}
