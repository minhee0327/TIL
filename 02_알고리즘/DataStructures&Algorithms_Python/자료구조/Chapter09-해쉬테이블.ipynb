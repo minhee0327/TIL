{
 "cells": [
  {
   "cell_type": "markdown",
   "metadata": {},
   "source": [
    "## 대표적인 데이터구조 6: 해쉬테이블(Hash Table)\n",
    "### 1. 해쉬구조\n",
    "- Hash Table: 키에 데이터(value)를 저장하는 구조\n",
    "    - 파이선에서는 해쉬 별도 구현 X => 딕셔너리타입 사용\n",
    "    - key를 통해 데이터 받아오기때문에 **속도**가 매우빠름 => 검색에 자주 활용됨\n",
    "    - 최근에는 Block Chain기술에 많이 활용되었음.\n",
    "    - 보통 배열로 미리 Hash Table 사이즈만큼 생성 후 사용(공간과 탐색시간을 맞바꾸는 기법)\n",
    "  \n",
    "### 2. 알아둘 용어\n",
    "- 해쉬(Hash): 임의 값을 고정길이로 변환하는 것\n",
    "- 해쉬테이블(Hash Table): 키 값의 연산에 의해 직접 접근이 가능한 데이터 구조\n",
    "- 해싱함수(Hashing Function): Key에 대해 산술 연산을 이용해 데이터 위치를 찾을 수 있는 함수.\n",
    "- 해쉬값 또는 해쉬 주소(Hash Value, Hash address):   \n",
    "  Key를 해싱함수로 연산해서, 해쉬값을 알아내고 이를 기반으로 해쉬테이블에서 Key에 대한 데이터 위치를 일관성 있게 찾을 수 있음\n",
    "- 슬롯(Slot): 한개의 데이터를 저장할 수 있는 공간\n",
    "- 저장할 데이터에 대해 Key를 추출할 수 있는 별도 함수 존재할 수 있음. "
   ]
  },
  {
   "cell_type": "markdown",
   "metadata": {},
   "source": [
    "### 3. 간단하게 구현해보기"
   ]
  },
  {
   "cell_type": "markdown",
   "metadata": {},
   "source": [
    "#### 3.3 hash table"
   ]
  },
  {
   "cell_type": "code",
   "execution_count": 1,
   "metadata": {},
   "outputs": [
    {
     "data": {
      "text/plain": [
       "[0, 0, 0, 0, 0, 0, 0, 0, 0, 0]"
      ]
     },
     "execution_count": 1,
     "metadata": {},
     "output_type": "execute_result"
    }
   ],
   "source": [
    "hash_table = list([0 for i in range(10)])\n",
    "hash_table"
   ]
  },
  {
   "cell_type": "markdown",
   "metadata": {},
   "source": [
    "#### 3.2 hash function\n",
    "- 가장 간단한 방법: Division 법(나누기를 통한 나머지 값을 사용하는 기법)"
   ]
  },
  {
   "cell_type": "code",
   "execution_count": 8,
   "metadata": {},
   "outputs": [],
   "source": [
    "def hash_func(key):\n",
    "    return key % 5"
   ]
  },
  {
   "cell_type": "markdown",
   "metadata": {},
   "source": [
    "#### 3.3 hash talbe에 저장"
   ]
  },
  {
   "cell_type": "code",
   "execution_count": 13,
   "metadata": {},
   "outputs": [
    {
     "name": "stdout",
     "output_type": "stream",
     "text": [
      "77 74 65\n",
      "77 2\n",
      "77 2\n"
     ]
    }
   ],
   "source": [
    "data1 = 'MinHee'\n",
    "data2 = 'Jiyoung'\n",
    "data3 = 'Amy'\n",
    "\n",
    "#ord(): 문자의 ASCII 코드 리턴\n",
    "print(ord(data1[0]), ord(data2[0]), ord(data3[0]))\n",
    "print(ord(data1[0]), ord(data1[0])%5)\n",
    "print(ord(data1[0]), hash_func(ord(data1[0]))) # key값: ord(data1[0])"
   ]
  },
  {
   "cell_type": "markdown",
   "metadata": {},
   "source": [
    "#### 3.3.1 해쉬 테이블 값 저장 예시"
   ]
  },
  {
   "cell_type": "code",
   "execution_count": 14,
   "metadata": {},
   "outputs": [],
   "source": [
    "def storage_data(data, value):\n",
    "    key = ord(data[0])\n",
    "    hash_address = hash_func(key)\n",
    "    hash_table[hash_address] = value"
   ]
  },
  {
   "cell_type": "markdown",
   "metadata": {},
   "source": [
    "#### 3.3.2 해쉬테이블에서 특정 주소 데이터를 가져오는 함수 만들어보기"
   ]
  },
  {
   "cell_type": "code",
   "execution_count": 15,
   "metadata": {},
   "outputs": [],
   "source": [
    "storage_data('MinHee', '01066660000')\n",
    "storage_data('Jiyoung', '01033337777')\n",
    "storage_data('Amy', '01088881111')"
   ]
  },
  {
   "cell_type": "markdown",
   "metadata": {},
   "source": [
    "#### 3.3.3 실제 데이터 저장하고 읽어보기"
   ]
  },
  {
   "cell_type": "code",
   "execution_count": 16,
   "metadata": {},
   "outputs": [],
   "source": [
    "def get_data(data):\n",
    "    key = ord(data[0])\n",
    "    hash_address = hash_func(key)\n",
    "    return hash_table[hash_address]"
   ]
  },
  {
   "cell_type": "code",
   "execution_count": 17,
   "metadata": {},
   "outputs": [
    {
     "data": {
      "text/plain": [
       "'01088881111'"
      ]
     },
     "execution_count": 17,
     "metadata": {},
     "output_type": "execute_result"
    }
   ],
   "source": [
    "get_data('Amy')"
   ]
  },
  {
   "cell_type": "markdown",
   "metadata": {},
   "source": [
    "### 4. 해쉬테이블 장단점 및 용도\n",
    "- 장점\n",
    "    - 데이터 저장/읽기 속도 빠름. **(검색속도 빠름!)**\n",
    "    - 해쉬는 키에 대한 데이터 있는지 **(중복) 확인이 쉬움**\n",
    "- 단점\n",
    "    - 일반적으로 저장 공간 좀 더 많이 필요\n",
    "    - **여러 키에 해당하는 주소 동일할 경우, 충돌을 해결하기 위한 별도 자료구조 필요!**\n",
    "- 주요 용도\n",
    "    - 검색 많이 필요할 때\n",
    "    - 저장, 삭제, 읽기 빈번할 때\n",
    "    - 캐쉬 구현시 ( 중복 확인 쉽기 때문에 )"
   ]
  },
  {
   "cell_type": "markdown",
   "metadata": {},
   "source": [
    "### 5. 프로그래밍 연습\n",
    "- 리스트 변수를 활용해서 해쉬 테이블 구현하기\n",
    "    - 해쉬 함수: key %8\n",
    "    - 해쉬 키 생성: hash(data) => 고정된 값을 리턴"
   ]
  },
  {
   "cell_type": "code",
   "execution_count": 21,
   "metadata": {},
   "outputs": [],
   "source": [
    "hash_table = list([0 for i in range(8)])\n",
    "\n",
    "def get_key(data):\n",
    "    return hash(data)\n",
    "\n",
    "def hash_function(key):\n",
    "    return key % 8\n",
    "\n",
    "def save_data(data, value):\n",
    "    hash_address = hash_function(get_key(data))\n",
    "    hash_table[hash_address] = value\n",
    "    \n",
    "def read_data(data):\n",
    "    hash_address = hash_function(get_key(data))\n",
    "    return hash_table[hash_address]"
   ]
  },
  {
   "cell_type": "code",
   "execution_count": 23,
   "metadata": {},
   "outputs": [],
   "source": [
    "save_data('MinHee', '01066660000')\n",
    "save_data('Jiyoung', '01033337777')\n",
    "save_data('Amy', '01088881111')"
   ]
  },
  {
   "cell_type": "code",
   "execution_count": 24,
   "metadata": {},
   "outputs": [
    {
     "data": {
      "text/plain": [
       "'01066660000'"
      ]
     },
     "execution_count": 24,
     "metadata": {},
     "output_type": "execute_result"
    }
   ],
   "source": [
    "read_data('MinHee')"
   ]
  },
  {
   "cell_type": "markdown",
   "metadata": {},
   "source": [
    "### 6. 충돌(Collision) 해결 알고리즘(좋은 해쉬 함수 사용하기)\n",
    "- 대표예\n",
    "    - Chaining기법\n",
    "    - Linear Probing 기법\n",
    "    - 해쉬 함수를 재정의 및 해쉬 테이블 저장 공간 확대(2배)"
   ]
  },
  {
   "cell_type": "markdown",
   "metadata": {},
   "source": [
    "#### 6.1  Chaining 기법\n",
    "- Open Hashing(개방 해싱) 기법\n",
    "- 해쉬 테이블 저장 공간 외의 공간 활용 기법\n",
    "- 충돌이 일어나면, 링크드 리스트 자료구조를 사용해서, 데이터 추가로 뒤에 연결시켜 저장하는 기법"
   ]
  },
  {
   "cell_type": "code",
   "execution_count": 45,
   "metadata": {},
   "outputs": [],
   "source": [
    "hash_table = list([0 for i in range(8)])\n",
    "\n",
    "def get_key(data):\n",
    "    return hash(data)\n",
    "\n",
    "def hash_function(key):\n",
    "    return key % 8\n",
    "\n",
    "def save_data(data, value):\n",
    "    index_key = get_key(data)\n",
    "    hash_address = hash_function(index_key)\n",
    "    if hash_table[hash_address] != 0: # 해쉬테이블의 해당 슬롯이 비워져 있지 않다면,\n",
    "        for index in range(len(hash_table[hash_address])):\n",
    "            if hash_table[hash_address][index][0] == index_key: # 새로들어올 key값이 만약 그 전에 들어와있었다면,\n",
    "                hash_table[hash_address][index][1] = value #값을 덮어씌울 것.\n",
    "                return\n",
    "        hash_table[hash_address].append([index_key, value]) # 다 돌았는데, key값 중복이 없다면, 뒤에 append로 갱신해나갈것.\n",
    "    else:\n",
    "        hash_table[hash_address]= [[index_key, value]]\n",
    "    \n",
    "def read_data(data):\n",
    "    index_key = get_key(data)\n",
    "    hash_address = hash_function(get_key(data))\n",
    "    if hash_table[hash_address] != 0:\n",
    "        for index in range(len(hash_table[hash_address])):\n",
    "            if hash_table[hash_address][index][0] == index_key:\n",
    "                return hash_table[hash_address][index][1]\n",
    "        return None\n",
    "    else:\n",
    "        return None\n"
   ]
  },
  {
   "cell_type": "code",
   "execution_count": 46,
   "metadata": {},
   "outputs": [
    {
     "name": "stdout",
     "output_type": "stream",
     "text": [
      "5\n",
      "1\n",
      "5\n",
      "1\n",
      "6\n"
     ]
    }
   ],
   "source": [
    "print(hash_function(get_key('MinHee')))\n",
    "print(hash_function(get_key('Minhee')))\n",
    "print(hash_function(get_key('MinJae')))\n",
    "print(hash_function(get_key('MinJi')))\n",
    "print(hash_function(get_key('MiMi')))"
   ]
  },
  {
   "cell_type": "code",
   "execution_count": 47,
   "metadata": {},
   "outputs": [],
   "source": [
    "save_data('MinHee', '01011110000')\n",
    "save_data('Minhee', '01022220000')\n",
    "save_data('MinJae', '01033330000')\n",
    "save_data('MinJi', '01044440000')"
   ]
  },
  {
   "cell_type": "code",
   "execution_count": 48,
   "metadata": {},
   "outputs": [
    {
     "data": {
      "text/plain": [
       "'01011110000'"
      ]
     },
     "execution_count": 48,
     "metadata": {},
     "output_type": "execute_result"
    }
   ],
   "source": [
    "read_data('MinHee')"
   ]
  },
  {
   "cell_type": "code",
   "execution_count": 49,
   "metadata": {},
   "outputs": [
    {
     "data": {
      "text/plain": [
       "[0,\n",
       " [[3581682668247700977, '01022220000'], [8499967738134162953, '01044440000']],\n",
       " 0,\n",
       " 0,\n",
       " 0,\n",
       " [[-1073313110567670403, '01011110000'],\n",
       "  [-5229401617650671475, '01033330000']],\n",
       " 0,\n",
       " 0]"
      ]
     },
     "execution_count": 49,
     "metadata": {},
     "output_type": "execute_result"
    }
   ],
   "source": [
    "hash_table"
   ]
  },
  {
   "cell_type": "markdown",
   "metadata": {},
   "source": [
    "#### 6.2 Linear Proging 기법\n",
    "- Close Hashing(폐쇄 해슁)기법 중하나: 해쉬 테이블 저장 공간 안에서 충돌 문제 해결\n",
    "- 충돌이 일어나면, 해당 hash address 의 다음 address부터 맨 처음 나오는 빈 공간에 저장하는 기법\n",
    "    - 저장공간을 활용하기 위한 기법"
   ]
  },
  {
   "cell_type": "code",
   "execution_count": 51,
   "metadata": {},
   "outputs": [],
   "source": [
    "hash_table = list([0 for i in range(8)])\n",
    "\n",
    "def get_key(data):\n",
    "    return hash(data)\n",
    "\n",
    "def hash_function(key):\n",
    "    return key % 8\n",
    "\n",
    "def save_data(data, value):\n",
    "    index_key = get_key(data)\n",
    "    hash_address = hash_function(index_key)\n",
    "    if hash_table[hash_address] != 0: # 이미 hash_address에 차있다면, \n",
    "        for index in range(hash_address, len(hash_table)): # hash_address가 차있는 곳 다음부터 끝까지 반복하면서 확인\n",
    "            if hash_table[index] == 0: # 만약 해당 index가 비어있다면(0)\n",
    "                hash_table[index] = [index_key, value] #넣어주기!\n",
    "                return\n",
    "            elif hash_table[index][0] == index_key:# key가 동일하다면, 새로 value를 update\n",
    "                hash_table[index][1] = value\n",
    "                return\n",
    "    else:\n",
    "        hash_table[hash_address]= [index_key, value]\n",
    "    \n",
    "def read_data(data):\n",
    "    index_key = get_key(data)\n",
    "    hash_address = hash_function(get_key(data))\n",
    "    if hash_table[hash_address] != 0:\n",
    "        for index in range(hash_address, len(hash_table)):\n",
    "            if hash_table[index] == 0:\n",
    "                return None\n",
    "            elif hash_table[index][0] == index_key:\n",
    "                return hash_table[index][1]\n",
    "    else:\n",
    "        return None\n"
   ]
  },
  {
   "cell_type": "code",
   "execution_count": 52,
   "metadata": {},
   "outputs": [],
   "source": [
    "save_data('MinHee', '01011110000')\n",
    "save_data('Minhee', '01022220000')\n",
    "save_data('MinJae', '01033330000')\n",
    "save_data('MinJi', '01044440000')"
   ]
  },
  {
   "cell_type": "code",
   "execution_count": 54,
   "metadata": {},
   "outputs": [
    {
     "data": {
      "text/plain": [
       "'01044440000'"
      ]
     },
     "execution_count": 54,
     "metadata": {},
     "output_type": "execute_result"
    }
   ],
   "source": [
    "read_data('MinJi')"
   ]
  },
  {
   "cell_type": "code",
   "execution_count": 53,
   "metadata": {},
   "outputs": [
    {
     "data": {
      "text/plain": [
       "[0,\n",
       " [3581682668247700977, '01022220000'],\n",
       " [8499967738134162953, '01044440000'],\n",
       " 0,\n",
       " 0,\n",
       " [-1073313110567670403, '01011110000'],\n",
       " [-5229401617650671475, '01033330000'],\n",
       " 0]"
      ]
     },
     "execution_count": 53,
     "metadata": {},
     "output_type": "execute_result"
    }
   ],
   "source": [
    "hash_table"
   ]
  },
  {
   "cell_type": "markdown",
   "metadata": {},
   "source": [
    "#### 6.3 빈번한 충돌을 개선하는 기법\n",
    "- 해쉬 함수를 재정의 및 해쉬 테이블 저장 공간 확대하기!"
   ]
  },
  {
   "cell_type": "markdown",
   "metadata": {},
   "source": [
    "### 참고: 해시 함수와 키 생성함수\n",
    "- 파이선의 hash()함수는 실행마다, 값이 달라질 수 있음\n",
    "- 해쉬함수 2가지\n",
    "    - SHA(Secure Hash Alogorithm,안전한 해시 알고리즘)\n",
    "        - SHA-1\n",
    "        - SHA-256\n",
    "   - 어떤 데이터에도 유일한, 고정된 크기의 고정값을 리턴해주므로 해시함수로 유용하게 활용가능"
   ]
  },
  {
   "cell_type": "code",
   "execution_count": 55,
   "metadata": {},
   "outputs": [
    {
     "name": "stdout",
     "output_type": "stream",
     "text": [
      "a94a8fe5ccb19ba61c4c0873d391e987982fbbd3\n"
     ]
    }
   ],
   "source": [
    "#SHA-1\n",
    "# 혹시 에러나면, pip install hashlib 으로 library 설치\n",
    "import hashlib\n",
    "\n",
    "data = 'test'.encode()\n",
    "hash_object = hashlib.sha1()\n",
    "hash_object.update(b'test') #b'test' => byte로 변환\n",
    "hex_dig = hash_object.hexdigest() #16진수로 추출\n",
    "\n",
    "print(hex_dig)"
   ]
  },
  {
   "cell_type": "code",
   "execution_count": 59,
   "metadata": {},
   "outputs": [
    {
     "name": "stdout",
     "output_type": "stream",
     "text": [
      "9f86d081884c7d659a2feaa0c55ad015a3bf4f1b2b0b822cd15d6c15b0f00a08 <class 'str'>\n",
      "72155939486846849509759369733266486982821795810448245423168957390607644363272 <class 'int'>\n"
     ]
    }
   ],
   "source": [
    "#SHA-256\n",
    "# 혹시 에러나면, pip install hashlib 으로 library 설치\n",
    "import hashlib\n",
    "\n",
    "data = 'test'.encode()\n",
    "hash_object = hashlib.sha256()\n",
    "hash_object.update(b'test') #b'test' => byte로 변환\n",
    "hex_dig = hash_object.hexdigest() #16진수로 추출\n",
    "\n",
    "print(hex_dig, type(hex_dig))\n",
    "print(int(hex_dig, 16), type(int(hex_dig, 16)))"
   ]
  },
  {
   "cell_type": "code",
   "execution_count": 60,
   "metadata": {},
   "outputs": [],
   "source": [
    "### Linear Chaining 기법 사용했던 부분, SHA로 hash 표현해보자!\n",
    "import hashlib\n",
    "\n",
    "hash_table = list([0 for i in range(8)])\n",
    "\n",
    "def get_key(data):\n",
    "    hash_object = hashlib.sha256()\n",
    "    hash_object.update(data.encode())\n",
    "    hex_dig = hash_object.hexdigest()\n",
    "    return int(hex_dig,16) #16진수 문자열을 10진수 숫자열로 변환\n",
    "\n",
    "def hash_function(key):\n",
    "    return key % 8\n",
    "\n",
    "def save_data(data, value):\n",
    "    index_key = get_key(data)\n",
    "    hash_address = hash_function(index_key)\n",
    "    if hash_table[hash_address] != 0: \n",
    "        for index in range(hash_address, len(hash_table)): \n",
    "            if hash_table[index] == 0: \n",
    "                hash_table[index] = [index_key, value] \n",
    "                return\n",
    "            elif hash_table[index][0] == index_key:\n",
    "                hash_table[index][1] = value\n",
    "                return\n",
    "    else:\n",
    "        hash_table[hash_address]= [index_key, value]\n",
    "    \n",
    "def read_data(data):\n",
    "    index_key = get_key(data)\n",
    "    hash_address = hash_function(get_key(data))\n",
    "    if hash_table[hash_address] != 0:\n",
    "        for index in range(hash_address, len(hash_table)):\n",
    "            if hash_table[index] == 0:\n",
    "                return None\n",
    "            elif hash_table[index][0] == index_key:\n",
    "                return hash_table[index][1]\n",
    "    else:\n",
    "        return None\n"
   ]
  },
  {
   "cell_type": "code",
   "execution_count": 64,
   "metadata": {},
   "outputs": [
    {
     "name": "stdout",
     "output_type": "stream",
     "text": [
      "3\n",
      "1\n",
      "3\n",
      "3\n"
     ]
    }
   ],
   "source": [
    "print(get_key('MinHee')%8)\n",
    "print(get_key('Minhee')%8)\n",
    "print(get_key('MinJae')%8)\n",
    "print(get_key('MinJi')%8)"
   ]
  },
  {
   "cell_type": "code",
   "execution_count": 61,
   "metadata": {},
   "outputs": [],
   "source": [
    "save_data('MinHee', '01011110000')\n",
    "save_data('Minhee', '01022220000')\n",
    "save_data('MinJae', '01033330000')\n",
    "save_data('MinJi', '01044440000')"
   ]
  },
  {
   "cell_type": "code",
   "execution_count": 62,
   "metadata": {},
   "outputs": [
    {
     "data": {
      "text/plain": [
       "[0,\n",
       " [95151058953297688801490983670223981708173521211243282372747593281218822559857,\n",
       "  '01022220000'],\n",
       " 0,\n",
       " [57074294736972814182231405250731525048968069818086329842541657300670696602931,\n",
       "  '01011110000'],\n",
       " [35346450457171200099510866910500750872195032730351794231363716895012968310179,\n",
       "  '01033330000'],\n",
       " [104935408917999936344823412221395089860526318901480398883333755526694617263171,\n",
       "  '01044440000'],\n",
       " 0,\n",
       " 0]"
      ]
     },
     "execution_count": 62,
     "metadata": {},
     "output_type": "execute_result"
    }
   ],
   "source": [
    "hash_table"
   ]
  },
  {
   "cell_type": "markdown",
   "metadata": {},
   "source": [
    "### 7. 시간복잡도\n",
    "- 일반적인 경우 (Collision이 없는 경우)는 O(1)\n",
    "- 최악의 경우 (Collision이 모두 발생하는 경우)는 O(N)\n",
    "> 해쉬 테이블의 경우, 일반적인 경우를 기대하고 만들기 때문에, 시간복잡도는 O(1)이라고 할 수 있음!\n",
    "\n",
    "### 검색에서 해쉬 테이블의 사용예\n",
    "- 16개의 배열에 데이터를 저장하고, 검색할 때 O(N)\n",
    "- 16개의 데이터 저장공간을 가진 위의 해쉬테이블에 데이터를 저장하고, 검색할 때 O(1)"
   ]
  }
 ],
 "metadata": {
  "kernelspec": {
   "display_name": "Python 3",
   "language": "python",
   "name": "python3"
  },
  "language_info": {
   "codemirror_mode": {
    "name": "ipython",
    "version": 3
   },
   "file_extension": ".py",
   "mimetype": "text/x-python",
   "name": "python",
   "nbconvert_exporter": "python",
   "pygments_lexer": "ipython3",
   "version": "3.7.4"
  }
 },
 "nbformat": 4,
 "nbformat_minor": 2
}
