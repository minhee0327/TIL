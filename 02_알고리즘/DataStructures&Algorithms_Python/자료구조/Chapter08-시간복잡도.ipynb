{
 "cells": [
  {
   "cell_type": "markdown",
   "metadata": {},
   "source": [
    "# 알고리즘 복잡도 표현방법"
   ]
  },
  {
   "cell_type": "markdown",
   "metadata": {},
   "source": [
    "## 1. 알고리즘 복잡도 계산이 필요한 이유\n",
    "### 하나의 문제를 푸는 알고리즘은 다양할 수 있음.\n",
    "- 정수의 절대값 구하기\n",
    "    - 1, -1 =>> 1\n",
    "    - 방법 1: 정수값을 제곱한 다음에 한해 다시 루트를 씌우기\n",
    "    - 방법 2: 정수가 음수인지 확인해서 음수일 때만, -1을 곱하기\n",
    "    > 다양한 알고리즘 중 어느 알고리즘이 더 좋은지 분석하기 위해 복잡도 정의하고 계산함."
   ]
  },
  {
   "cell_type": "markdown",
   "metadata": {},
   "source": [
    "## 2. 알고리즘 복잡도 계산항목\n",
    "**1. 시간복잡도:** 알고리즘 실행 **속도**    \n",
    "**2. 공간복잡도:** 알고리즘이 사용하는 **메모리 사이즈**    \n",
    "> 가장 중요한 시간 복잡도를 꼭 이해하고 계산할 수 있어야 함."
   ]
  },
  {
   "cell_type": "markdown",
   "metadata": {},
   "source": [
    "### 알고리즘 시간 복잡도의 주요 요소"
   ]
  },
  {
   "cell_type": "markdown",
   "metadata": {},
   "source": [
    "- 입력의 크기가 커지면 커질수록, 반복문이 알고리즘 수행 시간을 지배함\n",
    "> 반복문이 지배"
   ]
  },
  {
   "cell_type": "markdown",
   "metadata": {},
   "source": [
    "### 알고리즘 성능 표기법\n",
    "- Big O (빅 - 오) 표기법: O(N)\n",
    "    - 알고리즘 최악의 실행시간을 표기\n",
    "    - 가장 많이 /일반적으로 사용함\n",
    "    - 아무리 최악의 상황이라도, 이정도의 성능은 보장한다는 의미 이기 때문\n",
    "- 오메가 표기법: \n",
    "    - 알고리즘 최상의 실행시간 표기\n",
    "- 세타 표기법\n",
    "    - 알고리즘 평균실행시간 표기\n",
    "    \n",
    "> 시간 복잡도 계산의 핵심요소는 **반복문**  \n",
    "> 계산표기는 최상, 평균, 최악 중 **최악의 시간인 Big-O 표기법 중심**으로 익히자"
   ]
  },
  {
   "cell_type": "markdown",
   "metadata": {},
   "source": [
    "### 알고리즘1: 1부터 n까지의 합을 구하는 알고리즘1\n",
    "- 합을 기록할 변수를 만들고 0을 저장\n",
    "- n을 부터 1씩 증가하면서 반복\n",
    "- 반복문 안에서 합을 기록할 변수에 1씩 증가된 값을 더함\n",
    "- 반복이 끝나면 합을 출력\n",
    "\n",
    "- 반복을 한번 진행하므로 O(n)"
   ]
  },
  {
   "cell_type": "code",
   "execution_count": 1,
   "metadata": {},
   "outputs": [],
   "source": [
    "def sum_all(n):\n",
    "    total = 0\n",
    "    for i in range(1, n+1):\n",
    "        total+=i\n",
    "    return total"
   ]
  },
  {
   "cell_type": "code",
   "execution_count": 3,
   "metadata": {},
   "outputs": [
    {
     "data": {
      "text/plain": [
       "55"
      ]
     },
     "execution_count": 3,
     "metadata": {},
     "output_type": "execute_result"
    }
   ],
   "source": [
    "sum_all(10)"
   ]
  },
  {
   "cell_type": "markdown",
   "metadata": {},
   "source": [
    "### 알고리즘2: 1부터 n까지의 합을 구하는 알고리즘2\n",
    "- n(n+1)/2\n",
    "- 반복을 진행하지 않기때문에, O(1)"
   ]
  },
  {
   "cell_type": "code",
   "execution_count": 4,
   "metadata": {},
   "outputs": [],
   "source": [
    "def sum_all(n):\n",
    "    return int(n*(n+1)/2)"
   ]
  },
  {
   "cell_type": "code",
   "execution_count": 5,
   "metadata": {},
   "outputs": [
    {
     "data": {
      "text/plain": [
       "55"
      ]
     },
     "execution_count": 5,
     "metadata": {},
     "output_type": "execute_result"
    }
   ],
   "source": [
    "sum_all(10)"
   ]
  },
  {
   "cell_type": "code",
   "execution_count": null,
   "metadata": {},
   "outputs": [],
   "source": []
  }
 ],
 "metadata": {
  "kernelspec": {
   "display_name": "Python 3",
   "language": "python",
   "name": "python3"
  },
  "language_info": {
   "codemirror_mode": {
    "name": "ipython",
    "version": 3
   },
   "file_extension": ".py",
   "mimetype": "text/x-python",
   "name": "python",
   "nbconvert_exporter": "python",
   "pygments_lexer": "ipython3",
   "version": "3.7.4"
  }
 },
 "nbformat": 4,
 "nbformat_minor": 2
}
